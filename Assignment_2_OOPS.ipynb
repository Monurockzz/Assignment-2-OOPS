{
  "nbformat": 4,
  "nbformat_minor": 0,
  "metadata": {
    "colab": {
      "provenance": []
    },
    "kernelspec": {
      "name": "python3",
      "display_name": "Python 3"
    },
    "language_info": {
      "name": "python"
    }
  },
  "cells": [
    {
      "cell_type": "markdown",
      "source": [
        "Q. What is a constructor in Python? Explain its purpose and usage."
      ],
      "metadata": {
        "id": "CuQSUUHu_oCB"
      }
    },
    {
      "cell_type": "code",
      "execution_count": null,
      "metadata": {
        "id": "x9IP9j68_fNH"
      },
      "outputs": [],
      "source": [
        "'''In Python, a constructor is a special method that gets called when an object is created.\n",
        "It is used to initialize the attributes of the object and perform any setup actions that are necessary for the\n",
        "object to function correctly. The constructor method in Python is always named __init__.\n",
        "\n",
        "Here's a simple explanation of its purpose and usage:\n",
        "\n",
        "Purpose of a Constructor:\n",
        "Initialization: The primary purpose of a constructor is to initialize the attributes of an object.\n",
        "It allows you to set default values or pass initial values when creating an instance of a class.\n",
        "\n",
        "Usage:'''\n",
        "\n",
        "class MyClass:\n",
        "    def __init__(self, parameter1, parameter2):\n",
        "        # Initialize attributes\n",
        "        self.attribute1 = parameter1\n",
        "        self.attribute2 = parameter2\n",
        "\n",
        "# Creating an instance of MyClass with initial values\n",
        "my_instance = MyClass(\"value1\", \"value2\")\n"
      ]
    },
    {
      "cell_type": "markdown",
      "source": [
        "Q. Differentiate between a parameterless constructor and a parameterized constructor in Python."
      ],
      "metadata": {
        "id": "00TKOW07AqL7"
      }
    },
    {
      "cell_type": "code",
      "source": [
        "'''In Python, constructors can be categorized into two types: parameterless constructors and parameterized\n",
        "constructors.\n",
        "\n",
        "Parameterless Constructor:\n",
        "A parameterless constructor, as the name suggests, doesn't take any parameters.\n",
        "Its primary purpose is to perform any default setup or initialization required for the object.\n",
        "The syntax for a parameterless constructor is simply def __init__(self):.\n",
        "\n",
        "Example:'''\n",
        "\n",
        "class ParameterlessConstructorExample:\n",
        "    def __init__(self):\n",
        "        print(\"This is a parameterless constructor.\")\n",
        "\n",
        "# Creating an instance triggers the parameterless constructor\n",
        "instance = ParameterlessConstructorExample()\n",
        "\n",
        "'''Parameterized Constructor:\n",
        "A parameterized constructor takes parameters, allowing you to pass values during the object creation.\n",
        "It is used to initialize the object's attributes with the provided values.\n",
        "The syntax for a parameterized constructor includes parameters, like def __init__(self, param1, param2):.\n",
        "\n",
        "Example:'''\n",
        "\n",
        "class ParameterizedConstructorExample:\n",
        "    def __init__(self, value1, value2):\n",
        "        self.attribute1 = value1\n",
        "        self.attribute2 = value2\n",
        "\n",
        "# Creating an instance with parameters\n",
        "instance = ParameterizedConstructorExample(\"some_value\", 42)\n",
        "\n"
      ],
      "metadata": {
        "id": "mlv9v_v9Af-r"
      },
      "execution_count": null,
      "outputs": []
    },
    {
      "cell_type": "markdown",
      "source": [
        "Q. How do you define a constructor in a Python class? Provide an example."
      ],
      "metadata": {
        "id": "1ZdJpS14CCaO"
      }
    },
    {
      "cell_type": "code",
      "source": [
        "'''In Python, a constructor is defined using a special method named __init__.\n",
        " Here's a simple example demonstrating how to define a constructor in a Python class:'''\n",
        "\n",
        "class MyClass:\n",
        "    def __init__(self, parameter1, parameter2):\n",
        "        # Initialize attributes\n",
        "        self.attribute1 = parameter1\n",
        "        self.attribute2 = parameter2\n",
        "\n",
        "# Creating an instance of MyClass with initial values\n",
        "my_instance = MyClass(\"value1\", \"value2\")\n",
        "\n",
        "# Accessing attributes of the created instance\n",
        "print(my_instance.attribute1)  # Output: value1\n",
        "print(my_instance.attribute2)  # Output: value2\n",
        "\n",
        "\n",
        "\n"
      ],
      "metadata": {
        "id": "sEsFnbllBvbW"
      },
      "execution_count": null,
      "outputs": []
    },
    {
      "cell_type": "markdown",
      "source": [
        "Q. Explain the `__init__` method in Python and its role in constructors."
      ],
      "metadata": {
        "id": "vJS7xvOQDBCG"
      }
    },
    {
      "cell_type": "code",
      "source": [
        "'''The __init__ method in Python is a special method, often referred to as a constructor.\n",
        "It plays a crucial role in the initialization of objects when they are created from a class.\n",
        "The term \"constructor\" comes from its ability to construct or initialize objects.\n",
        "\n",
        "Here are the key points about the __init__ method and its role in constructors:\n",
        "\n",
        "Special Method Name:\n",
        "The __init__ method is a special method with a double underscore (__) both at the beginning and end of its name.\n",
        "It is automatically called when an object is created from a class.\n",
        "Initialization:\n",
        "\n",
        "The primary purpose of the __init__ method is to initialize the attributes of an object.\n",
        "It allows you to set default values or accept parameters to initialize the object's state.\n",
        "Instance Reference (self):\n",
        "\n",
        "The self parameter in the __init__ method refers to the instance of the class being created.\n",
        " It is a convention to include self as the first parameter in any instance method, including the constructor.\n",
        "\n",
        "Object Initialization:\n",
        "When an object is created from a class, the __init__ method is automatically called,\n",
        "and any code inside it is executed.\n",
        "This is the point in the object's lifecycle where you can perform setup actions,\n",
        "assign initial values to attributes, and generally prepare the object for use.\n",
        "\n",
        "Here's a simple example to illustrate the role of the __init__ method:\n",
        "class MyClass:'''\n",
        "\n",
        "def __init__(self, parameter1, parameter2):\n",
        "        # Initialize attributes\n",
        "        self.attribute1 = parameter1\n",
        "        self.attribute2 = parameter2\n",
        "\n",
        "# Creating an instance of MyClass with initial values\n",
        "my_instance = MyClass(\"value1\", \"value2\")\n",
        "\n",
        "\n",
        "\n"
      ],
      "metadata": {
        "id": "25WRVztCCSbd"
      },
      "execution_count": null,
      "outputs": []
    },
    {
      "cell_type": "markdown",
      "source": [
        "Q. Create a Python class called `Rectangle` with a constructor that initializes the `width` and `height`\n",
        "attributes. Provide a method to calculate the area of the rectangle."
      ],
      "metadata": {
        "id": "UBxNIYSyKiBa"
      }
    },
    {
      "cell_type": "code",
      "source": [
        " Here's an example of a Python class named Rectangle with a constructor that initializes\n",
        "the width and height attributes. Additionally, there's a method called calculate_area to calculate the area of the\n",
        "rectangle:'''\n",
        "\n",
        "class Rectangle:\n",
        "    def __init__(self, width, height):\n",
        "        self.width = width\n",
        "        self.height = height\n",
        "\n",
        "    def calculate_area(self):\n",
        "        return self.width * self.height\n",
        "\n",
        "# Creating an instance of Rectangle\n",
        "my_rectangle = Rectangle(5, 8)\n",
        "\n",
        "# Accessing attributes and calculating the area\n",
        "print(\"Width:\", my_rectangle.width)    # Output: 5\n",
        "print(\"Height:\", my_rectangle.height)  # Output: 8\n",
        "print(\"Area:\", my_rectangle.calculate_area())  # Output: 40\n"
      ],
      "metadata": {
        "id": "wrD_oVzuJIEe"
      },
      "execution_count": null,
      "outputs": []
    },
    {
      "cell_type": "markdown",
      "source": [
        "Q. How can you have multiple constructors in a Python class? Explain with an example."
      ],
      "metadata": {
        "id": "MJ_DE-33pgOj"
      }
    },
    {
      "cell_type": "code",
      "source": [
        "'''you cannot have multiple constructors with different parameter signatures like some other programming languages\n",
        "(e.g., Java or C++). However, you can achieve similar functionality by providing default values for the parameters\n",
        "in the constructor. This way, you can create instances of the class with or without specifying certain values.\n",
        "\n",
        "Here's an example demonstrating how you can simulate multiple constructors using default parameter values:'''\n",
        "class Rectangle:\n",
        "    def __init__(self, width=0, height=0):\n",
        "        self.width = width\n",
        "        self.height = height\n",
        "\n",
        "    def calculate_area(self):\n",
        "        return self.width * self.height\n",
        "\n",
        "# Creating instances with different constructor signatures\n",
        "rectangle1 = Rectangle()          # Default values (width=0, height=0)\n",
        "rectangle2 = Rectangle(5)         # Specifying only width (height will be 0 by default)\n",
        "rectangle3 = Rectangle(3, 7)      # Specifying both width and height\n",
        "\n",
        "# Accessing attributes and calculating areas\n",
        "print(\"Rectangle 1 Area:\", rectangle1.calculate_area())  # Output: 0\n",
        "print(\"Rectangle 2 Area:\", rectangle2.calculate_area())  # Output: 0\n",
        "print(\"Rectangle 3 Area:\", rectangle3.calculate_area())  # Output: 21\n",
        "\n",
        "\n"
      ],
      "metadata": {
        "id": "wHIh5UNBLIZm"
      },
      "execution_count": null,
      "outputs": []
    },
    {
      "cell_type": "markdown",
      "source": [
        "Q.  use of the `super()` function in Python constructors. Provide an example."
      ],
      "metadata": {
        "id": "JNyxhRLPqn-8"
      }
    },
    {
      "cell_type": "code",
      "source": [
        "'''The super() function is used in constructors to call the constructor of the parent class.\n",
        "It's particularly useful in situations where you want to extend the functionality of a child class while still\n",
        "maintaining the initialization logic of the parent class. super() helps you avoid duplicating code by delegating\n",
        "the initialization to the parent class.\n",
        "\n",
        "Here's a simple example to illustrate the use of super() in Python constructors:'''\n",
        "class ParentClass:\n",
        "    def __init__(self, parent_param):\n",
        "        self.parent_param = parent_param\n",
        "        print(\"ParentClass constructor called\")\n",
        "\n",
        "class ChildClass(ParentClass):\n",
        "    def __init__(self, parent_param, child_param):\n",
        "        # Call the constructor of the parent class using super()\n",
        "        super().__init__(parent_param)\n",
        "\n",
        "        # Initialize attributes specific to the child class\n",
        "        self.child_param = child_param\n",
        "        print(\"ChildClass constructor called\")\n",
        "\n",
        "# Creating an instance of the ChildClass\n",
        "child_instance = ChildClass(\"parent_value\", \"child_value\")\n",
        "\n",
        "# Accessing attributes\n",
        "print(\"Parent Parameter:\", child_instance.parent_param)\n",
        "print(\"Child Parameter:\", child_instance.child_param)\n"
      ],
      "metadata": {
        "id": "urPkLLh1p-yd"
      },
      "execution_count": null,
      "outputs": []
    },
    {
      "cell_type": "markdown",
      "source": [
        "Q. Create a class called `Book` with a constructor that initializes the `title`, `author`, and `published_year`\n",
        "attributes. Provide a method to display book details."
      ],
      "metadata": {
        "id": "mC9bRm4DrOLf"
      }
    },
    {
      "cell_type": "code",
      "source": [
        "''' Here's an example of a Python class named Book with a constructor that initializes the title,\n",
        "author, and published_year attributes. Additionally, there's a method called display_details to display\n",
        "information about the book:'''\n",
        "\n",
        "class Book:\n",
        "    def __init__(self, title, author, published_year):\n",
        "        self.title = title\n",
        "        self.author = author\n",
        "        self.published_year = published_year\n",
        "\n",
        "    def display_details(self):\n",
        "        print(f\"Title: {self.title}\")\n",
        "        print(f\"Author: {self.author}\")\n",
        "        print(f\"Published Year: {self.published_year}\")\n",
        "\n",
        "# Creating an instance of the Book class\n",
        "my_book = Book(\"The Python Book\", \"John Doe\", 2022)\n",
        "\n",
        "# Displaying book details\n",
        "my_book.display_details()\n"
      ],
      "metadata": {
        "id": "9CYWn17bq8Vv"
      },
      "execution_count": null,
      "outputs": []
    },
    {
      "cell_type": "markdown",
      "source": [
        "Q. Create a Python class called `Student` with a constructor that takes a list of subjects as a parameter and\n",
        "initializes the `subjects` attribute."
      ],
      "metadata": {
        "id": "yzkeyV6WsroA"
      }
    },
    {
      "cell_type": "code",
      "source": [
        "''' Here's an example of a Python class named Student with a constructor that takes a list of subjects\n",
        "as a parameter and initializes the subjects attribute:'''\n",
        "\n",
        "class Student:\n",
        "    def __init__(self, subjects):\n",
        "        self.subjects = subjects\n",
        "\n",
        "# Creating an instance of the Student class with a list of subjects\n",
        "student1 = Student([\"Math\", \"Science\", \"History\"])\n",
        "\n",
        "# Accessing the subjects attribute\n",
        "print(\"Student 1 Subjects:\", student1.subjects)\n",
        "\n",
        "\n"
      ],
      "metadata": {
        "id": "IMeF55_grmoQ"
      },
      "execution_count": null,
      "outputs": []
    },
    {
      "cell_type": "markdown",
      "source": [
        "Q. Create a Python class called `Car` with a default constructor that initializes the `make` and `model`\n",
        "attributes. Provide a method to display car information."
      ],
      "metadata": {
        "id": "7QA30FWfta0g"
      }
    },
    {
      "cell_type": "code",
      "source": [
        "''' Here's an example of a Python class named Car with a default constructor that initializes\n",
        "the make and model attributes. Additionally, there's a method called display_info to display information about the car:'''\n",
        "class Car:\n",
        "    def __init__(self, make=\"Unknown Make\", model=\"Unknown Model\"):\n",
        "        self.make = make\n",
        "        self.model = model\n",
        "\n",
        "    def display_info(self):\n",
        "        print(f\"Make: {self.make}\")\n",
        "        print(f\"Model: {self.model}\")\n",
        "\n",
        "# Creating an instance of the Car class with default values\n",
        "default_car = Car()\n",
        "\n",
        "# Displaying car information\n",
        "default_car.display_info()\n",
        "\n"
      ],
      "metadata": {
        "id": "vF2Uro_vtLay"
      },
      "execution_count": null,
      "outputs": []
    },
    {
      "cell_type": "markdown",
      "source": [
        "## **Inheritance:**"
      ],
      "metadata": {
        "id": "cRE5_WORiKF0"
      }
    },
    {
      "cell_type": "markdown",
      "source": [
        "Q. What is inheritance in Python? Explain its significance in object-oriented programming."
      ],
      "metadata": {
        "id": "a4qqHXxti6WJ"
      }
    },
    {
      "cell_type": "code",
      "source": [
        "'''Inheritance is a fundamental concept in object-oriented programming (OOP) that allows one class to\n",
        "inherit the properties and behaviors of another class. In Python, a class can inherit attributes and methods\n",
        "from another class, creating a relationship between the two known as a \"parent-child\" or \"base-derived\"\n",
        "relationship.\n",
        "\n",
        "Key Concepts:\n",
        "\n",
        "Base Class (Parent Class):\n",
        "The class whose properties and methods are inherited by another class.\n",
        "Often referred to as the \"base class\" or \"parent class.\"\n",
        "Derived Class (Child Class):\n",
        "\n",
        "The class that inherits properties and methods from another class.\n",
        "Often referred to as the \"derived class\" or \"child class.\"\n",
        "Significance of Inheritance in OOP:\n",
        "\n",
        "Code Reusability:\n",
        "Inheritance promotes code reuse by allowing you to define common attributes and methods in a base class. Derived classes can then reuse or override these elements.\n",
        "Hierarchy and Organization:\n",
        "\n",
        "Inheritance helps in organizing classes into a hierarchy, reflecting relationships and promoting a more natural\n",
        "and intuitive structure.\n",
        "\n",
        "Method Overriding:\n",
        "Derived classes can provide their own implementation of methods inherited from the base class. This process is known as method overriding.\n",
        "Polymorphism:\n",
        "\n",
        "Inheritance is closely related to polymorphism, allowing objects of a derived class to be treated as\n",
        "objects of the base class. This enhances flexibility and extensibility in your code.\n",
        "\n",
        "Example:'''\n",
        "class Animal:\n",
        "    def __init__(self, species):\n",
        "        self.species = species\n",
        "\n",
        "    def make_sound(self):\n",
        "        print(\"Some generic animal sound\")\n",
        "\n",
        "class Dog(Animal):\n",
        "    def __init__(self, breed, name):\n",
        "        # Call the constructor of the base class (Animal)\n",
        "        super().__init__(\"Dog\")\n",
        "        self.breed = breed\n",
        "        self.name = name\n",
        "\n",
        "    # Override the make_sound method\n",
        "    def make_sound(self):\n",
        "        print(\"Woof! Woof!\")\n",
        "\n",
        "# Creating instances of both classes\n",
        "generic_animal = Animal(\"Unknown\")\n",
        "my_dog = Dog(\"Golden Retriever\", \"Buddy\")\n",
        "\n",
        "# Accessing attributes and calling methods\n",
        "print(\"Generic Animal Species:\", generic_animal.species)\n",
        "generic_animal.make_sound()  # Output: Some generic animal sound\n",
        "\n",
        "print(\"\\nDog Species:\", my_dog.species)\n",
        "print(\"Dog Breed:\", my_dog.breed)\n",
        "print(\"Dog Name:\", my_dog.name)\n",
        "my_dog.make_sound()  # Output: Woof! Woof!\n"
      ],
      "metadata": {
        "id": "mExqQjoBtxYL"
      },
      "execution_count": null,
      "outputs": []
    },
    {
      "cell_type": "markdown",
      "source": [
        "Q. Create a Python class called `Vehicle` with attributes `color` and `speed`. Then, create a child class called\n",
        "`Car` that inherits from `Vehicle` and adds a `brand` attribute. Provide an example of creating a `Car` object."
      ],
      "metadata": {
        "id": "5l8fx7WdkYmq"
      }
    },
    {
      "cell_type": "code",
      "source": [
        "'''Here's an example of a Python class named Vehicle with attributes color and speed, and a child class named Car\n",
        "that inherits from Vehicle and adds a brand attribute:'''\n",
        "\n",
        "class Vehicle:\n",
        "    def __init__(self, color, speed):\n",
        "        self.color = color\n",
        "        self.speed = speed\n",
        "\n",
        "class Car(Vehicle):\n",
        "    def __init__(self, color, speed, brand):\n",
        "        # Call the constructor of the base class (Vehicle)\n",
        "        super().__init__(color, speed)\n",
        "        self.brand = brand\n",
        "\n",
        "# Creating a Car object\n",
        "my_car = Car(\"Blue\", 60, \"Toyota\")\n",
        "\n",
        "# Accessing attributes of the Car object\n",
        "print(\"Car Color:\", my_car.color)\n",
        "print(\"Car Speed:\", my_car.speed)\n",
        "print(\"Car Brand:\", my_car.brand)\n"
      ],
      "metadata": {
        "id": "FUS_0BRYjZdX"
      },
      "execution_count": null,
      "outputs": []
    },
    {
      "cell_type": "markdown",
      "source": [
        "Q. Discuss the use of the `super()` function in Python inheritance. When and why is it used? Provide an\n",
        "example."
      ],
      "metadata": {
        "id": "9Z-0noBhMQN_"
      }
    },
    {
      "cell_type": "code",
      "source": [
        "'''The super() function in Python is used in the context of inheritance to call a method from the parent class.\n",
        "It provides a way to invoke the method or constructor of the parent class, allowing you to reuse or extend\n",
        "the functionality of the base class within the derived class.\n",
        "\n",
        "Usage of super() in Inheritance:\n",
        "\n",
        "Calling Parent Class Methods:\n",
        "In a derived class, you can use super() to call a method from the parent class,\n",
        "allowing you to reuse the implementation from the base class.\n",
        "\n",
        "Initializing Base Class Attributes:\n",
        "In the context of constructors, super() is commonly used to call the constructor of the parent class,\n",
        "ensuring that the initialization logic of the base class is executed.\n",
        "\n",
        "\n",
        "Consider the following example with a base class Vehicle and a derived class Car:'''\n",
        "class Vehicle:\n",
        "    def __init__(self, color, speed):\n",
        "        self.color = color\n",
        "        self.speed = speed\n",
        "\n",
        "    def display_info(self):\n",
        "        print(f\"Color: {self.color}\")\n",
        "        print(f\"Speed: {self.speed} km/h\")\n",
        "\n",
        "class Car(Vehicle):\n",
        "    def __init__(self, color, speed, brand):\n",
        "        # Call the constructor of the base class (Vehicle)\n",
        "        super().__init__(color, speed)\n",
        "        self.brand = brand\n",
        "\n",
        "    def display_info(self):\n",
        "        # Call the display_info method of the base class (Vehicle)\n",
        "        super().display_info()\n",
        "        print(f\"Brand: {self.brand}\")\n",
        "\n",
        "# Creating a Car object\n",
        "my_car = Car(\"Blue\", 60, \"Toyota\")\n",
        "\n",
        "# Accessing attributes and calling methods\n",
        "my_car.display_info()\n"
      ],
      "metadata": {
        "id": "ytfwJ_4zki4R"
      },
      "execution_count": null,
      "outputs": []
    },
    {
      "cell_type": "markdown",
      "source": [
        "Q. Create a Python class called `Animal` with a method `speak()`. Then, create child classes `Dog` and `Cat` that inherit from `Animal` and override the `speak()` method. Provide an example of using these classes."
      ],
      "metadata": {
        "id": "ocib4_EdNlYE"
      }
    },
    {
      "cell_type": "code",
      "source": [
        "class Animal:\n",
        "    def speak(self):\n",
        "        print(\"Generic animal sound\")\n",
        "\n",
        "class Dog(Animal):\n",
        "    def speak(self):\n",
        "        print(\"Woof! Woof!\")\n",
        "\n",
        "class Cat(Animal):\n",
        "    def speak(self):\n",
        "        print(\"Meow!\")\n",
        "\n",
        "# Creating instances of the Dog and Cat classes\n",
        "my_dog = Dog()\n",
        "my_cat = Cat()\n",
        "\n",
        "# Calling the speak method for each instance\n",
        "my_dog.speak()  # Output: Woof! Woof!\n",
        "my_cat.speak()  # Output: Meow!\n"
      ],
      "metadata": {
        "id": "tLk5D55-M6F6"
      },
      "execution_count": null,
      "outputs": []
    },
    {
      "cell_type": "markdown",
      "source": [
        "Q. Differentiate between single inheritance and multiple inheritance in Python. Provide examples for each."
      ],
      "metadata": {
        "id": "D1naRAH0OTDX"
      }
    },
    {
      "cell_type": "code",
      "source": [
        "'''In Python, inheritance can take two main forms: single inheritance and multiple inheritance.\n",
        "discuss the differences between them and provide examples for each:\n",
        "\n",
        "Single Inheritance:\n",
        "\n",
        "Definition:\n",
        "Single inheritance refers to a situation where a class inherits from only one base class.\n",
        "\n",
        "Example:'''\n",
        "\n",
        "class Animal:\n",
        "    def speak(self):\n",
        "        print(\"Generic animal sound\")\n",
        "\n",
        "class Dog(Animal):\n",
        "    def bark(self):\n",
        "        print(\"Woof! Woof!\")\n",
        "\n",
        "# Creating an instance of the Dog class\n",
        "my_dog = Dog()\n",
        "\n",
        "# Accessing methods from both Animal and Dog classes\n",
        "my_dog.speak()  # Output: Generic animal sound\n",
        "my_dog.bark()   # Output: Woof! Woof!\n",
        "\n",
        "'''Multiple Inheritance:\n",
        "\n",
        "Definition:\n",
        "Multiple inheritance refers to a situation where a class inherits from more than one base class.\n",
        "\n",
        "Example:'''\n",
        "class Bird:\n",
        "    def chirp(self):\n",
        "        print(\"Tweet! Tweet!\")\n",
        "\n",
        "class Mammal:\n",
        "    def make_sound(self):\n",
        "        print(\"Some generic mammal sound\")\n",
        "\n",
        "class Bat(Bird, Mammal):\n",
        "    def fly(self):\n",
        "        print(\"Flying with wings\")\n",
        "\n",
        "# Creating an instance of the Bat class\n",
        "my_bat = Bat()\n",
        "\n",
        "# Accessing methods from both Bird and Mammal classes\n",
        "my_bat.chirp()         # Output: Tweet! Tweet!\n",
        "my_bat.make_sound()    # Output: Some generic mammal sound\n",
        "my_bat.fly()           # Output: Flying with wings\n",
        "\n",
        "\n",
        "'''Key Differences:\n",
        "Single Inheritance: A class inherits from only one base class.\n",
        "\n",
        "Multiple Inheritance: A class inherits from more than one base class.\n",
        "\n",
        "Example of Single Inheritance: A Dog inheriting from an Animal.\n",
        "\n",
        "Example of Multiple Inheritance: A Bat inheriting from both Bird and Mammal.'''\n"
      ],
      "metadata": {
        "id": "oUSPedqDNuPQ"
      },
      "execution_count": null,
      "outputs": []
    },
    {
      "cell_type": "markdown",
      "source": [
        "Q. How can you access the methods and attributes of a parent class from a child class in Python? Give an\n",
        "example."
      ],
      "metadata": {
        "id": "RqhyCog5Pt3Z"
      }
    },
    {
      "cell_type": "code",
      "source": [
        "'''In Python, you can access the methods and attributes of a parent class from a child class using the super()\n",
        "function. The super() function provides a way to call methods and access attributes of the parent class within\n",
        "the context of the child class.\n",
        "\n",
        "Here's an example to illustrate how to use super() to access the methods and attributes of a parent class:'''\n",
        "class Parent:\n",
        "    def __init__(self, name):\n",
        "        self.name = name\n",
        "\n",
        "    def display_info(self):\n",
        "        print(f\"Parent Class - Name: {self.name}\")\n",
        "\n",
        "class Child(Parent):\n",
        "    def __init__(self, name, additional_info):\n",
        "        # Call the constructor of the parent class using super()\n",
        "        super().__init__(name)\n",
        "        self.additional_info = additional_info\n",
        "\n",
        "    def display_info(self):\n",
        "        # Call the display_info method of the parent class using super()\n",
        "        super().display_info()\n",
        "        print(f\"Child Class - Additional Info: {self.additional_info}\")\n",
        "\n",
        "# Creating an instance of the Child class\n",
        "my_child = Child(\"John\", \"Some additional information\")\n",
        "\n",
        "# Accessing attributes and calling methods\n",
        "my_child.display_info()\n"
      ],
      "metadata": {
        "id": "cgDPZ0ZbPW2_"
      },
      "execution_count": null,
      "outputs": []
    },
    {
      "cell_type": "markdown",
      "source": [
        "Q. Create a Python class called `Employee` with attributes `name` and `salary`. Then, create a child class\n",
        "`Manager` that inherits from `Employee` and adds an attribute `department`. Provide an example."
      ],
      "metadata": {
        "id": "86D7ZN_RQriR"
      }
    },
    {
      "cell_type": "code",
      "source": [
        "'''Here's an example of a Python class named Employee with attributes name and salary,\n",
        "and a child class named Manager that inherits from Employee and adds an attribute department:'''\n",
        "class Employee:\n",
        "    def __init__(self, name, salary):\n",
        "        self.name = name\n",
        "        self.salary = salary\n",
        "\n",
        "    def display_info(self):\n",
        "        print(f\"Name: {self.name}\")\n",
        "        print(f\"Salary: ${self.salary}\")\n",
        "\n",
        "class Manager(Employee):\n",
        "    def __init__(self, name, salary, department):\n",
        "        # Call the constructor of the base class (Employee)\n",
        "        super().__init__(name, salary)\n",
        "        self.department = department\n",
        "\n",
        "    def display_info(self):\n",
        "        # Call the display_info method of the base class (Employee)\n",
        "        super().display_info()\n",
        "        print(f\"Department: {self.department}\")\n",
        "\n",
        "# Creating an instance of the Manager class\n",
        "manager = Manager(\"John Doe\", 75000, \"Sales\")\n",
        "\n",
        "# Accessing attributes and calling methods\n",
        "manager.display_info()\n"
      ],
      "metadata": {
        "id": "DX0dEwpQQRRx"
      },
      "execution_count": null,
      "outputs": []
    },
    {
      "cell_type": "markdown",
      "source": [
        "Q. Create a Python class called `Shape` with a method `area()` that calculates the area of a shape. Then, create child classes `Circle` and `Rectangle` that inherit from `Shape` and implement the `area()` method\n",
        "accordingly. Provide an example."
      ],
      "metadata": {
        "id": "MB9-KQ0yRk43"
      }
    },
    {
      "cell_type": "code",
      "source": [
        "'''Here's an example of a Python class named Shape with a method area() that calculates the area of a shape,\n",
        "and two child classes Circle and Rectangle that inherit from Shape and implement the area() method accordingly:'''\n",
        "import math\n",
        "\n",
        "class Shape:\n",
        "    def area(self):\n",
        "        pass  # To be implemented in the child classes\n",
        "\n",
        "class Circle(Shape):\n",
        "    def __init__(self, radius):\n",
        "        self.radius = radius\n",
        "\n",
        "    def area(self):\n",
        "        return math.pi * self.radius**2\n",
        "\n",
        "class Rectangle(Shape):\n",
        "    def __init__(self, width, height):\n",
        "        self.width = width\n",
        "        self.height = height\n",
        "\n",
        "    def area(self):\n",
        "        return self.width * self.height\n",
        "\n",
        "# Creating instances of the Circle and Rectangle classes\n",
        "circle = Circle(5)\n",
        "rectangle = Rectangle(4, 6)\n",
        "\n",
        "# Calculating and displaying areas\n",
        "print(f\"Area of the Circle: {circle.area():.2f}\")\n",
        "print(f\"Area of the Rectangle: {rectangle.area()}\")\n"
      ],
      "metadata": {
        "id": "kqDRWpIWRd-r"
      },
      "execution_count": null,
      "outputs": []
    },
    {
      "cell_type": "markdown",
      "source": [
        "Q.Explain the purpose of the `__init__()` method in Python inheritance and how it is utilized in child classes."
      ],
      "metadata": {
        "id": "TWvdc9ZRjWZf"
      }
    },
    {
      "cell_type": "code",
      "source": [
        "'''\n",
        "The __init__() method in Python is a special method, also known as the constructor,\n",
        "that is automatically called when an object is created from a class. It is used to initialize the attributes\n",
        "or properties of the object. In the context of inheritance, the __init__() method plays a crucial role in\n",
        "initializing both the attributes of the child class and the attributes inherited from the parent class.\n",
        "\n",
        "Purpose of __init__() in Inheritance:\n",
        "\n",
        "Attribute Initialization:\n",
        "It is responsible for initializing the attributes of the child class, ensuring that the object has the necessary attributes when it is created.\n",
        "Initialization of Parent Class Attributes:\n",
        "\n",
        "In the child class, super().__init__(...) is often used to call the constructor of the parent class, ensuring that the attributes of the parent class are also properly initialized.\n",
        "Utilization in Child Classes:\n",
        "\n",
        "When a child class has its own attributes to initialize, it typically defines its own __init__() method.\n",
        "The child class's __init__() method may call the parent class's __init__() method using super().__init__(...)\n",
        "to initialize attributes from the parent class.\n",
        "The child class's __init__() method can include additional code to initialize or modify attributes\n",
        "specific to the child class.\n",
        "\n",
        "Example:'''\n",
        "class Animal:\n",
        "    def __init__(self, species):\n",
        "        self.species = species\n",
        "\n",
        "class Dog(Animal):\n",
        "    def __init__(self, species, breed, name):\n",
        "        # Call the constructor of the parent class (Animal)\n",
        "        super().__init__(species)\n",
        "\n",
        "        # Initialize attributes specific to the Dog class\n",
        "        self.breed = breed\n",
        "        self.name = name\n",
        "\n",
        "# Creating an instance of the Dog class\n",
        "my_dog = Dog(\"Canine\", \"Golden Retriever\", \"Buddy\")\n",
        "\n",
        "# Accessing attributes\n",
        "print(\"Species:\", my_dog.species)\n",
        "print(\"Breed:\", my_dog.breed)\n",
        "print(\"Name:\", my_dog.name)\n",
        "\n"
      ],
      "metadata": {
        "id": "RYJAo2xcRx_0"
      },
      "execution_count": null,
      "outputs": []
    },
    {
      "cell_type": "markdown",
      "source": [
        "Q. Create a Python class called `Bird` with a method `fly()`. Then, create child classes `Eagle` and `Sparrow` that inherit from `Bird` and implement the `fly()` method differently. Provide an example of using these\n",
        "classes."
      ],
      "metadata": {
        "id": "8yE9mjigj_9L"
      }
    },
    {
      "cell_type": "code",
      "source": [
        "'''Here's an example of a Python class named Bird with a method fly(), and two child classes Eagle and Sparrow\n",
        "that inherit from Bird and implement the fly() method differently:'''\n",
        "class Bird:\n",
        "    def fly(self):\n",
        "        print(\"Generic bird flying\")\n",
        "\n",
        "class Eagle(Bird):\n",
        "    def fly(self):\n",
        "        print(\"Eagle soaring through the sky\")\n",
        "\n",
        "class Sparrow(Bird):\n",
        "    def fly(self):\n",
        "        print(\"Sparrow fluttering around\")\n",
        "\n",
        "# Creating instances of the Eagle and Sparrow classes\n",
        "eagle = Eagle()\n",
        "sparrow = Sparrow()\n",
        "\n",
        "# Calling the fly method for each instance\n",
        "eagle.fly()    # Output: Eagle soaring through the sky\n",
        "sparrow.fly()  # Output: Sparrow fluttering around\n",
        "\n"
      ],
      "metadata": {
        "id": "7aZR3aZ6j2Uq"
      },
      "execution_count": null,
      "outputs": []
    },
    {
      "cell_type": "markdown",
      "source": [
        "Q. Create a Python class hierarchy for a university system. Start with a base class `Person` and create child\n",
        "classes `Student` and `Professor`, each with their own attributes and methods. Provide an example of using\n",
        "these classes in a university context."
      ],
      "metadata": {
        "id": "84JIgRUNkuHG"
      }
    },
    {
      "cell_type": "code",
      "source": [
        "'''Here's an example of a Python class hierarchy for a university system. We'll start with a base class\n",
        "Person and create child classes Student and Professor, each with their own attributes and methods:'''\n",
        "class Person:\n",
        "    def __init__(self, name, age):\n",
        "        self.name = name\n",
        "        self.age = age\n",
        "\n",
        "    def display_info(self):\n",
        "        print(f\"Name: {self.name}\")\n",
        "        print(f\"Age: {self.age}\")\n",
        "\n",
        "class Student(Person):\n",
        "    def __init__(self, name, age, student_id):\n",
        "        # Call the constructor of the parent class (Person)\n",
        "        super().__init__(name, age)\n",
        "        self.student_id = student_id\n",
        "\n",
        "    def display_info(self):\n",
        "        # Call the display_info method of the parent class (Person)\n",
        "        super().display_info()\n",
        "        print(f\"Student ID: {self.student_id}\")\n",
        "\n",
        "    def study(self):\n",
        "        print(\"Student is studying\")\n",
        "\n",
        "class Professor(Person):\n",
        "    def __init__(self, name, age, employee_id):\n",
        "        # Call the constructor of the parent class (Person)\n",
        "        super().__init__(name, age)\n",
        "        self.employee_id = employee_id\n",
        "\n",
        "    def display_info(self):\n",
        "        # Call the display_info method of the parent class (Person)\n",
        "        super().display_info()\n",
        "        print(f\"Employee ID: {self.employee_id}\")\n",
        "\n",
        "    def teach(self):\n",
        "        print(\"Professor is teaching\")\n",
        "\n",
        "# Example usage in a university context\n",
        "student1 = Student(\"Alice Student\", 20, \"S12345\")\n",
        "professor1 = Professor(\"Dr. Smith\", 45, \"P98765\")\n",
        "\n",
        "# Display information and perform actions\n",
        "print(\"Student Information:\")\n",
        "student1.display_info()\n",
        "student1.study()\n",
        "\n",
        "print(\"\\nProfessor Information:\")\n",
        "professor1.display_info()\n",
        "professor1.teach()\n"
      ],
      "metadata": {
        "id": "WNxqBSxKkeju"
      },
      "execution_count": null,
      "outputs": []
    },
    {
      "cell_type": "markdown",
      "source": [
        "## **Encapsulation:**"
      ],
      "metadata": {
        "id": "MWmiWnPPlVlw"
      }
    },
    {
      "cell_type": "markdown",
      "source": [
        "Q. Explain the concept of encapsulation in Python. What is its role in object-oriented programming?"
      ],
      "metadata": {
        "id": "o2nCXHa5l74z"
      }
    },
    {
      "cell_type": "code",
      "source": [
        "'''Encapsulation is one of the fundamental concepts in object-oriented programming (OOP) and refers to the\n",
        "bundling of data (attributes) and the methods (functions) that operate on the data into a single unit,\n",
        "known as a class. It allows the implementation details of a class to be hidden from the outside world,\n",
        "and only a well-defined interface is exposed for interacting with the class. In Python, encapsulation is\n",
        "achieved using access modifiers and properties.\n",
        "\n",
        "Key Concepts of Encapsulation:\n",
        "\n",
        "Data Hiding:\n",
        "The internal details of an object are hidden from the outside world. Attributes are typically declared as private,\n",
        "meaning they should not be directly accessed from outside the class.\n",
        "\n",
        "Access Control:\n",
        "Access modifiers (public, private, protected) control the visibility of attributes and methods.\n",
        "They determine whether an attribute or method is accessible from outside the class.\n",
        "\n",
        "Public Interface:\n",
        "Only a well-defined public interface is exposed to interact with the class. This helps in providing a clear\n",
        "separation between the implementation details and the external usage of the class.\n",
        "\n",
        "Role in Object-Oriented Programming:\n",
        "\n",
        "Security and Stability:\n",
        "Encapsulation enhances security by preventing unauthorized access to the internal state of an object.\n",
        "It also improves stability since changes to the internal implementation won't affect the external code that uses\n",
        "the class.\n",
        "\n",
        "Code Organization:\n",
        "Encapsulation helps in organizing code by grouping related data and behavior into a single unit (class).\n",
        "This promotes a modular and maintainable code structure.\n",
        "\n",
        "Abstraction:\n",
        "By exposing only a public interface, encapsulation allows users of a class to interact with the object without\n",
        "needing to know the internal details. This concept is known as abstraction.\n",
        "\n",
        "Example in Python:'''\n",
        "\n",
        "class BankAccount:\n",
        "    def __init__(self, account_holder, balance):\n",
        "        self._account_holder = account_holder  # Protected attribute\n",
        "        self.__balance = balance               # Private attribute\n",
        "\n",
        "    def deposit(self, amount):\n",
        "        self.__balance += amount\n",
        "\n",
        "    def withdraw(self, amount):\n",
        "        if amount <= self.__balance:\n",
        "            self.__balance -= amount\n",
        "        else:\n",
        "            print(\"Insufficient funds\")\n",
        "\n",
        "    def get_balance(self):\n",
        "        return self.__balance\n",
        "\n",
        "# Creating an instance of the BankAccount class\n",
        "account = BankAccount(\"John Doe\", 1000)\n",
        "\n",
        "# Accessing attributes and methods through the public interface\n",
        "print(\"Account Holder:\", account._account_holder)  # Accessing a protected attribute\n",
        "# print(\"Balance:\", account.__balance)  # This would result in an error due to private attribute\n",
        "\n",
        "account.deposit(500)\n",
        "account.withdraw(200)\n",
        "\n",
        "print(\"Current Balance:\", account.get_balance())\n",
        "\n"
      ],
      "metadata": {
        "id": "Xak-PiGQk_U2"
      },
      "execution_count": null,
      "outputs": []
    },
    {
      "cell_type": "markdown",
      "source": [
        "Q. How can you achieve encapsulation in Python classes? Provide an example."
      ],
      "metadata": {
        "id": "p0Fjp6hgm2qQ"
      }
    },
    {
      "cell_type": "code",
      "source": [
        "''', Encapsulation is achieved using access modifiers and properties. Access modifiers control the visibility\n",
        "of attributes and methods, while properties allow you to define getter and setter methods for accessing and\n",
        "modifying private attributes. Here's an example illustrating encapsulation in a Python class:'''\n",
        "\n",
        "class BankAccount:\n",
        "    def __init__(self, account_holder, balance):\n",
        "        self._account_holder = account_holder  # Protected attribute\n",
        "        self.__balance = balance               # Private attribute\n",
        "\n",
        "    # Getter method for the private balance attribute\n",
        "    def get_balance(self):\n",
        "        return self.__balance\n",
        "\n",
        "    # Setter method for the private balance attribute\n",
        "    def set_balance(self, new_balance):\n",
        "        if new_balance >= 0:\n",
        "            self.__balance = new_balance\n",
        "        else:\n",
        "            print(\"Invalid balance\")\n",
        "\n",
        "    # Public method to deposit money\n",
        "    def deposit(self, amount):\n",
        "        if amount > 0:\n",
        "            self.__balance += amount\n",
        "        else:\n",
        "            print(\"Invalid deposit amount\")\n",
        "\n",
        "    # Public method to withdraw money\n",
        "    def withdraw(self, amount):\n",
        "        if amount <= self.__balance:\n",
        "            self.__balance -= amount\n",
        "        else:\n",
        "            print(\"Insufficient funds\")\n",
        "\n",
        "    # Getter method for the protected account_holder attribute\n",
        "    def get_account_holder(self):\n",
        "        return self._account_holder\n",
        "\n",
        "# Creating an instance of the BankAccount class\n",
        "account = BankAccount(\"John Doe\", 1000)\n",
        "\n",
        "# Accessing attributes and methods through the public interface\n",
        "print(\"Account Holder:\", account.get_account_holder())  # Accessing a protected attribute\n",
        "print(\"Balance:\", account.get_balance())               # Accessing a private attribute\n",
        "\n",
        "account.deposit(500)\n",
        "account.withdraw(200)\n",
        "\n",
        "print(\"Current Balance:\", account.get_balance())\n",
        "\n",
        "# Attempting to set an invalid balance\n",
        "account.set_balance(-500)  # This will print \"Invalid balance\"\n",
        "\n",
        "# Setting a valid balance\n",
        "account.set_balance(1500)\n",
        "print(\"Updated Balance:\", account.get_balance())\n"
      ],
      "metadata": {
        "id": "5Zht_WUImrYw"
      },
      "execution_count": null,
      "outputs": []
    },
    {
      "cell_type": "markdown",
      "source": [
        "Q. Create a Python class called `Person` with a private attribute `__name`. Provide methods to get and set the\n",
        "name attribute."
      ],
      "metadata": {
        "id": "qvuymTrTnUcw"
      }
    },
    {
      "cell_type": "code",
      "source": [
        "'''Here's an example of a Python class called Person with a private attribute __name and methods to get\n",
        "and set the name attribute:'''\n",
        "class Person:\n",
        "    def __init__(self, name):\n",
        "        self.__name = name  # Private attribute\n",
        "\n",
        "    # Getter method for the private __name attribute\n",
        "    def get_name(self):\n",
        "        return self.__name\n",
        "\n",
        "    # Setter method for the private __name attribute\n",
        "    def set_name(self, new_name):\n",
        "        if new_name.strip():  # Ensure the new name is not an empty string\n",
        "            self.__name = new_name\n",
        "        else:\n",
        "            print(\"Invalid name\")\n",
        "\n",
        "# Creating an instance of the Person class\n",
        "person = Person(\"John Doe\")\n",
        "\n",
        "# Accessing the name attribute through the getter method\n",
        "print(\"Current Name:\", person.get_name())\n",
        "\n",
        "# Attempting to set an invalid name\n",
        "person.set_name(\"\")  # This will print \"Invalid name\"\n",
        "\n",
        "# Setting a valid name\n",
        "person.set_name(\"Jane Doe\")\n",
        "print(\"Updated Name:\", person.get_name())\n"
      ],
      "metadata": {
        "id": "_13sF_2InLo7"
      },
      "execution_count": null,
      "outputs": []
    },
    {
      "cell_type": "markdown",
      "source": [
        "Q. 8. Create a Python class called `BankAccount` with private attributes for the account balance (`__balance`)"
      ],
      "metadata": {
        "id": "KnIT2phEntpQ"
      }
    },
    {
      "cell_type": "code",
      "source": [
        "'''Here's an example of a Python class called BankAccount with a private attribute __balance for the account\n",
        "balance:'''\n",
        "class BankAccount:\n",
        "    def __init__(self, initial_balance=0):\n",
        "        self.__balance = initial_balance  # Private attribute\n",
        "\n",
        "    # Getter method for the private __balance attribute\n",
        "    def get_balance(self):\n",
        "        return self.__balance\n",
        "\n",
        "    # Setter method for the private __balance attribute\n",
        "    def set_balance(self, new_balance):\n",
        "        if new_balance >= 0:\n",
        "            self.__balance = new_balance\n",
        "        else:\n",
        "            print(\"Invalid balance\")\n",
        "\n",
        "    # Public method to deposit money\n",
        "    def deposit(self, amount):\n",
        "        if amount > 0:\n",
        "            self.__balance += amount\n",
        "        else:\n",
        "            print(\"Invalid deposit amount\")\n",
        "\n",
        "    # Public method to withdraw money\n",
        "    def withdraw(self, amount):\n",
        "        if amount <= self.__balance:\n",
        "            self.__balance -= amount\n",
        "        else:\n",
        "            print(\"Insufficient funds\")\n",
        "\n",
        "# Creating an instance of the BankAccount class with an initial balance of 1000\n",
        "account = BankAccount(1000)\n",
        "\n",
        "# Accessing the balance attribute through the getter method\n",
        "print(\"Current Balance:\", account.get_balance())\n",
        "\n",
        "# Attempting to set an invalid balance\n",
        "account.set_balance(-500)  # This will print \"Invalid balance\"\n",
        "\n",
        "# Setting a valid balance\n",
        "account.set_balance(1500)\n",
        "print(\"Updated Balance:\", account.get_balance())\n",
        "\n",
        "# Performing deposit and withdrawal\n",
        "account.deposit(500)\n",
        "account.withdraw(200)\n",
        "\n",
        "print(\"Final Balance:\", account.get_balance())\n",
        "\n"
      ],
      "metadata": {
        "id": "UICpyXgFngfQ"
      },
      "execution_count": null,
      "outputs": []
    },
    {
      "cell_type": "markdown",
      "source": [
        "Q. What is name mangling in Python, and how does it affect encapsulation?"
      ],
      "metadata": {
        "id": "XqPQVw5coL2U"
      }
    },
    {
      "cell_type": "code",
      "source": [
        "'''\n",
        "Name mangling in Python is a mechanism that adds a prefix to the names of attributes in a class to make them less\n",
        "accessible from outside the class. This is primarily a way to \"mangle\" or alter the names of attributes to avoid\n",
        "accidental name clashes in situations where multiple classes might define similar attributes.\n",
        "Name mangling is achieved by adding a double underscore (__) as a prefix to an attribute name.\n",
        "\n",
        "How it Works:\n",
        "When you declare an attribute with a double underscore prefix (e.g., __attribute), Python internally\n",
        "renames the attribute by adding a prefix with the class name. The new name is formed by combining the class name\n",
        "with the original attribute name, separated by a single underscore (e.g., _ClassName__attribute).\n",
        "\n",
        "Effect on Encapsulation:\n",
        "Name mangling helps in implementing a form of encapsulation by making attribute names less likely to clash\n",
        "with names in other classes. It is not meant to provide true security or access control but rather to minimize\n",
        "accidental naming conflicts.\n",
        "\n",
        "Here's an example to illustrate name mangling and its impact on encapsulation:'''\n",
        "class MyClass:\n",
        "    def __init__(self):\n",
        "        self.__private_attribute = 42\n",
        "\n",
        "    def get_private_attribute(self):\n",
        "        return self.__private_attribute\n",
        "\n",
        "# Attempting to access the private attribute directly\n",
        "# This will result in an AttributeError since the attribute has been name-mangled\n",
        "# print(obj.__private_attribute)\n",
        "\n",
        "# Accessing the private attribute through the getter method\n",
        "obj = MyClass()\n",
        "print(\"Private Attribute:\", obj.get_private_attribute())\n",
        "\n",
        "# Accessing the private attribute after mangling\n",
        "print(\"Mangled Attribute:\", obj._MyClass__private_attribute)\n"
      ],
      "metadata": {
        "id": "Kcb29JGHoCjz"
      },
      "execution_count": null,
      "outputs": []
    },
    {
      "cell_type": "markdown",
      "source": [
        "Q. Create a Python class hierarchy for a school system, including classes for students, teachers, and courses,\n",
        "and implement encapsulation principles to protect sensitive information."
      ],
      "metadata": {
        "id": "86biDbmNo74I"
      }
    },
    {
      "cell_type": "code",
      "source": [
        "'''example of a Python class hierarchy for a school system. The example includes classes for students\n",
        "(Student), teachers (Teacher), and courses (Course). Encapsulation principles are implemented to protect\n",
        "sensitive information by using private attributes and providing controlled access through getter and setter methods.\n",
        "'''\n",
        "class Person:\n",
        "    def __init__(self, name, age):\n",
        "        self.__name = name      # Private attribute\n",
        "        self.__age = age        # Private attribute\n",
        "\n",
        "    def get_name(self):\n",
        "        return self.__name\n",
        "\n",
        "    def set_name(self, new_name):\n",
        "        if new_name.strip():    # Ensure the new name is not an empty string\n",
        "            self.__name = new_name\n",
        "        else:\n",
        "            print(\"Invalid name\")\n",
        "\n",
        "    def get_age(self):\n",
        "        return self.__age\n",
        "\n",
        "    def set_age(self, new_age):\n",
        "        if 0 <= new_age <= 120:  # Valid age range (0 to 120)\n",
        "            self.__age = new_age\n",
        "        else:\n",
        "            print(\"Invalid age\")\n",
        "\n",
        "class Student(Person):\n",
        "    def __init__(self, name, age, student_id):\n",
        "        super().__init__(name, age)\n",
        "        self.__student_id = student_id  # Private attribute\n",
        "\n",
        "    def get_student_id(self):\n",
        "        return self.__student_id\n",
        "\n",
        "    def set_student_id(self, new_student_id):\n",
        "        if new_student_id.strip():  # Ensure the new student ID is not an empty string\n",
        "            self.__student_id = new_student_id\n",
        "        else:\n",
        "            print(\"Invalid student ID\")\n",
        "\n",
        "class Teacher(Person):\n",
        "    def __init__(self, name, age, employee_id):\n",
        "        super().__init__(name, age)\n",
        "        self.__employee_id = employee_id  # Private attribute\n",
        "\n",
        "    def get_employee_id(self):\n",
        "        return self.__employee_id\n",
        "\n",
        "    def set_employee_id(self, new_employee_id):\n",
        "        if new_employee_id.strip():  # Ensure the new employee ID is not an empty string\n",
        "            self.__employee_id = new_employee_id\n",
        "        else:\n",
        "            print(\"Invalid employee ID\")\n",
        "\n",
        "class Course:\n",
        "    def __init__(self, course_code, course_name):\n",
        "        self.__course_code = course_code  # Private attribute\n",
        "        self.__course_name = course_name  # Private attribute\n",
        "\n",
        "    def get_course_code(self):\n",
        "        return self.__course_code\n",
        "\n",
        "    def set_course_code(self, new_course_code):\n",
        "        if new_course_code.strip():  # Ensure the new course code is not an empty string\n",
        "            self.__course_code = new_course_code\n",
        "        else:\n",
        "            print(\"Invalid course code\")\n",
        "\n",
        "    def get_course_name(self):\n",
        "        return self.__course_name\n",
        "\n",
        "    def set_course_name(self, new_course_name):\n",
        "        if new_course_name.strip():  # Ensure the new course name is not an empty string\n",
        "            self.__course_name = new_course_name\n",
        "        else:\n",
        "            print(\"Invalid course name\")\n",
        "\n",
        "# Example usage\n",
        "student = Student(\"Alice Student\", 18, \"S12345\")\n",
        "teacher = Teacher(\"Mr. Smith\", 35, \"T98765\")\n",
        "course = Course(\"CS101\", \"Introduction to Computer Science\")\n",
        "\n",
        "# Accessing and modifying attributes through getter and setter methods\n",
        "student.set_name(\"Alice NewStudent\")\n",
        "teacher.set_employee_id(\"T54321\")\n",
        "course.set_course_name(\"Python Programming\")\n",
        "\n",
        "# Displaying information\n",
        "print(\"Student Information:\")\n",
        "print(\"Name:\", student.get_name())\n",
        "print(\"Age:\", student.get_age())\n",
        "print(\"Student ID:\", student.get_student_id())\n",
        "\n",
        "print(\"\\nTeacher Information:\")\n",
        "print(\"Name:\", teacher.get_name())\n",
        "print(\"Age:\", teacher.get_age())\n",
        "print(\"Employee ID:\", teacher.get_employee_id())\n",
        "\n",
        "print(\"\\nCourse Information:\")\n",
        "print(\"Course Code:\", course.get_course_code())\n",
        "print(\"Course Name:\", course.get_course_name())\n"
      ],
      "metadata": {
        "id": "2gx8WZZyopPF"
      },
      "execution_count": null,
      "outputs": []
    },
    {
      "cell_type": "markdown",
      "source": [
        "Q. Create a Python class called `Employee` with private attributes for salary (`__salary`) and employee ID (`__employee_id`). Provide a method to calculate yearly bonuses."
      ],
      "metadata": {
        "id": "yIQrsT5ApfBx"
      }
    },
    {
      "cell_type": "code",
      "source": [
        "'''Here's an example of a Python class called Employee with private attributes for salary (__salary)\n",
        "and employee ID (__employee_id). Additionally, a method calculate_yearly_bonus is provided to calculate yearly bonuses:\n",
        "'''\n",
        "class Employee:\n",
        "    def __init__(self, employee_id, salary):\n",
        "        self.__employee_id = employee_id  # Private attribute\n",
        "        self.__salary = salary            # Private attribute\n",
        "\n",
        "    def get_employee_id(self):\n",
        "        return self.__employee_id\n",
        "\n",
        "    def set_employee_id(self, new_employee_id):\n",
        "        if new_employee_id.strip():  # Ensure the new employee ID is not an empty string\n",
        "            self.__employee_id = new_employee_id\n",
        "        else:\n",
        "            print(\"Invalid employee ID\")\n",
        "\n",
        "    def get_salary(self):\n",
        "        return self.__salary\n",
        "\n",
        "    def set_salary(self, new_salary):\n",
        "        if new_salary >= 0:  # Ensure the new salary is non-negative\n",
        "            self.__salary = new_salary\n",
        "        else:\n",
        "            print(\"Invalid salary\")\n",
        "\n",
        "    def calculate_yearly_bonus(self, bonus_percentage):\n",
        "        if 0 <= bonus_percentage <= 100:\n",
        "            bonus_amount = (bonus_percentage / 100) * self.__salary\n",
        "            return bonus_amount\n",
        "        else:\n",
        "            print(\"Invalid bonus percentage\")\n",
        "\n",
        "# Example usage\n",
        "employee = Employee(\"E12345\", 60000)\n",
        "\n",
        "# Accessing and modifying attributes through getter and setter methods\n",
        "employee.set_employee_id(\"E54321\")\n",
        "employee.set_salary(70000)\n",
        "\n",
        "# Displaying information\n",
        "print(\"Employee Information:\")\n",
        "print(\"Employee ID:\", employee.get_employee_id())\n",
        "print(\"Salary:\", employee.get_salary())\n",
        "\n",
        "# Calculating yearly bonus\n",
        "bonus_percentage = 10\n",
        "yearly_bonus = employee.calculate_yearly_bonus(bonus_percentage)\n",
        "print(f\"Yearly Bonus ({bonus_percentage}%): ${yearly_bonus:.2f}\")\n"
      ],
      "metadata": {
        "id": "gJQHabDDpP1p"
      },
      "execution_count": null,
      "outputs": []
    },
    {
      "cell_type": "markdown",
      "source": [
        "Q. What are the potential drawbacks or disadvantages of using encapsulation in Python?"
      ],
      "metadata": {
        "id": "AoGp4b5xqMka"
      }
    },
    {
      "cell_type": "code",
      "source": [
        "'''While encapsulation is a powerful concept in object-oriented programming and offers several advantages,\n",
        " there are potential drawbacks or disadvantages to consider when using encapsulation in Python:\n",
        "\n",
        "Increased Complexity:\n",
        "Encapsulation can lead to increased complexity, especially in large projects, as it introduces\n",
        "additional layers of abstraction. This complexity might make the code harder to understand and maintain\n",
        "for developers who are not familiar with the class hierarchy.\n",
        "\n",
        "Overhead from Getter and Setter Methods:\n",
        "The use of getter and setter methods adds a level of indirection, and the method calls may have\n",
        "a slight performance overhead compared to direct attribute access. In performance-sensitive applications,\n",
        "this overhead might be a concern.\n",
        "\n",
        "Boilerplate Code:\n",
        "Implementing encapsulation often involves writing boilerplate code for getter and setter methods.\n",
        "This can be repetitive, especially when dealing with classes with many attributes. Some developers might\n",
        "find this boilerplate code verbose.\n",
        "\n",
        "Limited Enforcement of Privacy:\n",
        "While attributes with a double underscore (e.g., __attribute) are considered private and subject to name mangling,\n",
        "Python does not provide true enforcement of access control. The privacy of attributes relies on conventions\n",
        "rather than strict rules, and determined developers can still access private attributes if they choose to do so.\n",
        "\n",
        "Potential for Overuse:\n",
        "Overusing encapsulation, creating too many layers of abstraction, or making everything private can lead to\n",
        "unnecessary complexity. It's important to strike a balance and only encapsulate when it makes sense in terms of\n",
        "code organization and data protection.\n",
        "\n",
        "Difficulty in Testing:\n",
        "Encapsulation can sometimes make it challenging to write unit tests, especially if attributes are strictly\n",
        "encapsulated. Accessing and testing private attributes may require the use of testing techniques like reflection,\n",
        "which can be considered less elegant.\n",
        "\n",
        "Inflexibility:\n",
        "Overly encapsulated code may become inflexible if modifications to the internal structure are needed.\n",
        "Changing the implementation details might necessitate updates to multiple methods or classes,\n",
        "leading to potential maintenance challenges.\n",
        "Despite these potential drawbacks, it's essential to note that encapsulation remains a valuable tool\n",
        "for organizing code, promoting modularity, and protecting data integrity. '''"
      ],
      "metadata": {
        "id": "jYmZexfEprzf"
      },
      "execution_count": null,
      "outputs": []
    },
    {
      "cell_type": "markdown",
      "source": [
        "Q. example of a Python class for a library system that encapsulates book information, including titles, authors, and availability status. The class is named Book:"
      ],
      "metadata": {
        "id": "xBtAfslj2Pzy"
      }
    },
    {
      "cell_type": "code",
      "source": [
        "'''example of a Python class for a library system that encapsulates book information, including titles, authors,\n",
        "and availability status. The class is named Book:'''\n",
        "\n",
        "class Book:\n",
        "    def __init__(self, title, author):\n",
        "        self.__title = title      # Private attribute\n",
        "        self.__author = author    # Private attribute\n",
        "        self.__available = True    # Private attribute\n",
        "\n",
        "    def get_title(self):\n",
        "        return self.__title\n",
        "\n",
        "    def set_title(self, new_title):\n",
        "        if new_title.strip():   # Ensure the new title is not an empty string\n",
        "            self.__title = new_title\n",
        "        else:\n",
        "            print(\"Invalid title\")\n",
        "\n",
        "    def get_author(self):\n",
        "        return self.__author\n",
        "\n",
        "    def set_author(self, new_author):\n",
        "        if new_author.strip():  # Ensure the new author is not an empty string\n",
        "            self.__author = new_author\n",
        "        else:\n",
        "            print(\"Invalid author\")\n",
        "\n",
        "    def is_available(self):\n",
        "        return self.__available\n",
        "\n",
        "    def check_out(self):\n",
        "        if self.__available:\n",
        "            print(f\"Book '{self.__title}' by {self.__author} checked out.\")\n",
        "            self.__available = False\n",
        "        else:\n",
        "            print(f\"Book '{self.__title}' is already checked out.\")\n",
        "\n",
        "    def check_in(self):\n",
        "        if not self.__available:\n",
        "            print(f\"Book '{self.__title}' checked in.\")\n",
        "            self.__available = True\n",
        "        else:\n",
        "            print(f\"Book '{self.__title}' is already available.\")\n",
        "\n",
        "# Example usage\n",
        "book1 = Book(\"The Great Gatsby\", \"F. Scott Fitzgerald\")\n",
        "book2 = Book(\"To Kill a Mockingbird\", \"Harper Lee\")\n",
        "\n",
        "# Accessing and modifying attributes through getter and setter methods\n",
        "book1.set_title(\"The Catcher in the Rye\")\n",
        "book1.set_author(\"J.D. Salinger\")\n",
        "\n",
        "# Displaying information and checking out/in books\n",
        "print(\"Book Information:\")\n",
        "print(\"Title:\", book1.get_title())\n",
        "print(\"Author:\", book1.get_author())\n",
        "print(\"Available:\", book1.is_available())\n",
        "\n",
        "book1.check_out()\n",
        "book1.check_in()\n",
        "book1.check_out()\n"
      ],
      "metadata": {
        "id": "VzKnjPwK2Rwh"
      },
      "execution_count": null,
      "outputs": []
    },
    {
      "cell_type": "markdown",
      "source": [
        "Q. Create a Python class called `Customer` with private attributes for customer details like name, address,\n",
        "and contact information. Implement encapsulation to ensure data integrity and security."
      ],
      "metadata": {
        "id": "Vn6qYsJa21u3"
      }
    },
    {
      "cell_type": "code",
      "source": [
        "''' Example of a Python class called Customer with private attributes for customer details like name, address,\n",
        " and contact information. Encapsulation is implemented to ensure data integrity and security:'''\n",
        "\n",
        "class Customer:\n",
        "    def __init__(self, name, address, contact_info):\n",
        "        self.__name = name            # Private attribute\n",
        "        self.__address = address      # Private attribute\n",
        "        self.__contact_info = contact_info  # Private attribute\n",
        "\n",
        "    def get_name(self):\n",
        "        return self.__name\n",
        "\n",
        "    def set_name(self, new_name):\n",
        "        if new_name.strip():   # Ensure the new name is not an empty string\n",
        "            self.__name = new_name\n",
        "        else:\n",
        "            print(\"Invalid name\")\n",
        "\n",
        "    def get_address(self):\n",
        "        return self.__address\n",
        "\n",
        "    def set_address(self, new_address):\n",
        "        if new_address.strip():  # Ensure the new address is not an empty string\n",
        "            self.__address = new_address\n",
        "        else:\n",
        "            print(\"Invalid address\")\n",
        "\n",
        "    def get_contact_info(self):\n",
        "        return self.__contact_info\n",
        "\n",
        "    def set_contact_info(self, new_contact_info):\n",
        "        if new_contact_info.strip():  # Ensure the new contact info is not an empty string\n",
        "            self.__contact_info = new_contact_info\n",
        "        else:\n",
        "            print(\"Invalid contact information\")\n",
        "\n",
        "# Example usage\n",
        "customer1 = Customer(\"John Doe\", \"123 Main St\", \"john@example.com, (555) 123-4567\")\n",
        "\n",
        "# Accessing and modifying attributes through getter and setter methods\n",
        "customer1.set_name(\"Jane Smith\")\n",
        "customer1.set_address(\"456 Oak Ave\")\n",
        "customer1.set_contact_info(\"jane@example.com, (555) 987-6543\")\n",
        "\n",
        "# Displaying customer information\n",
        "print(\"Customer Information:\")\n",
        "print(\"Name:\", customer1.get_name())\n",
        "print(\"Address:\", customer1.get_address())\n",
        "print(\"Contact Information:\", customer1.get_contact_info())\n"
      ],
      "metadata": {
        "id": "c7yJtBk-2jBN"
      },
      "execution_count": null,
      "outputs": []
    },
    {
      "cell_type": "markdown",
      "source": [
        "## **Polymorphism:**"
      ],
      "metadata": {
        "id": "VvylRkuo3jST"
      }
    },
    {
      "cell_type": "markdown",
      "source": [
        "Q. What is polymorphism in Python? Explain how it is related to object-oriented programming."
      ],
      "metadata": {
        "id": "bdCUwwsH4EMc"
      }
    },
    {
      "cell_type": "code",
      "source": [
        "'''\n",
        "Polymorphism is a key concept in object-oriented programming (OOP) that allows objects of different types\n",
        "to be treated as objects of a common type. The term \"polymorphism\" comes from the Greek words\n",
        "\"poly\" (many) and \"morphos\" (forms), reflecting the ability of a single interface to represent multiple types\n",
        "or forms.\n",
        "\n",
        "In Python, polymorphism is often associated with two main concepts: method overriding and duck typing.\n",
        "\n",
        "Method Overriding:\n",
        "Inheritance allows a subclass to inherit attributes and methods from a superclass.\n",
        "Polymorphism enables a subclass to provide a specific implementation for a method that is already defined\n",
        "in its superclass. This is known as method overriding. When an object of the subclass is used, the overridden\n",
        "method in the subclass is called instead of the method in the superclass.'''\n",
        "\n",
        "class Animal:\n",
        "    def make_sound(self):\n",
        "        pass\n",
        "\n",
        "class Dog(Animal):\n",
        "    def make_sound(self):\n",
        "        return \"Woof!\"\n",
        "\n",
        "class Cat(Animal):\n",
        "    def make_sound(self):\n",
        "        return \"Meow!\"\n",
        "\n",
        "# Polymorphic behavior\n",
        "dog = Dog()\n",
        "cat = Cat()\n",
        "\n",
        "print(dog.make_sound())  # Outputs: \"Woof!\"\n",
        "print(cat.make_sound())  # Outputs: \"Meow!\"\n",
        "\n",
        "'''Duck Typing:\n",
        "\n",
        "Python follows the principle of duck typing, which means that the type or class of an object is determined by\n",
        "its behavior (methods and properties) rather than its explicit type. If an object behaves like a particular type,\n",
        "it is treated as an instance of that type.'''\n",
        "class Duck:\n",
        "    def quack(self):\n",
        "        return \"Quack!\"\n",
        "\n",
        "class RobotDuck:\n",
        "    def quack(self):\n",
        "        return \"Beep beep!\"\n",
        "\n",
        "def make_sound(entity):\n",
        "    return entity.quack()\n",
        "\n",
        "# Polymorphic behavior with duck typing\n",
        "duck = Duck()\n",
        "robot_duck = RobotDuck()\n",
        "\n",
        "print(make_sound(duck))        # Outputs: \"Quack!\"\n",
        "print(make_sound(robot_duck))  # Outputs: \"Beep beep!\"\n",
        "\n"
      ],
      "metadata": {
        "id": "E-P1z8D13NW1"
      },
      "execution_count": null,
      "outputs": []
    },
    {
      "cell_type": "markdown",
      "source": [
        "Q. Create a Python class hierarchy for shapes (e.g., circle, square, triangle) and demonstrate polymorphism\n",
        "through a common method, such as `calculate_area()`.\n"
      ],
      "metadata": {
        "id": "zC13ZJFV47Ms"
      }
    },
    {
      "cell_type": "code",
      "source": [
        "'''\n",
        "Example of a Python class hierarchy for shapes, including Circle, Square, and Triangle.\n",
        "The classes demonstrate polymorphism through a common method, calculate_area():'''\n",
        "\n",
        "import math\n",
        "\n",
        "class Shape:\n",
        "    def calculate_area(self):\n",
        "        pass\n",
        "\n",
        "class Circle(Shape):\n",
        "    def __init__(self, radius):\n",
        "        self.radius = radius\n",
        "\n",
        "    def calculate_area(self):\n",
        "        return math.pi * self.radius**2\n",
        "\n",
        "class Square(Shape):\n",
        "    def __init__(self, side_length):\n",
        "        self.side_length = side_length\n",
        "\n",
        "    def calculate_area(self):\n",
        "        return self.side_length**2\n",
        "\n",
        "class Triangle(Shape):\n",
        "    def __init__(self, base, height):\n",
        "        self.base = base\n",
        "        self.height = height\n",
        "\n",
        "    def calculate_area(self):\n",
        "        return 0.5 * self.base * self.height\n",
        "\n",
        "# Example usage demonstrating polymorphism\n",
        "shapes = [Circle(5), Square(4), Triangle(3, 6)]\n",
        "\n",
        "for shape in shapes:\n",
        "    print(f\"Area of {shape.__class__.__name__}: {shape.calculate_area():.2f}\")\n"
      ],
      "metadata": {
        "id": "GvM3coMg4lkU"
      },
      "execution_count": null,
      "outputs": []
    },
    {
      "cell_type": "markdown",
      "source": [
        "Q. Explain the concept of method overriding in polymorphism. Provide an example.\n",
        "\n"
      ],
      "metadata": {
        "id": "MSfpMnmV6eQn"
      }
    },
    {
      "cell_type": "code",
      "source": [
        "'''\n",
        "Method overriding is a concept in polymorphism that allows a subclass to provide a specific implementation\n",
        "for a method that is already defined in its superclass. When a subclass overrides a method, it provides its own\n",
        "implementation for that method, and when an object of the subclass is used, the overridden method in the\n",
        "subclass is called instead of the method in the superclass.\n",
        "\n",
        "Here's a simple example to illustrate method overriding:'''\n",
        "class Animal:\n",
        "    def make_sound(self):\n",
        "        return \"Generic animal sound\"\n",
        "\n",
        "class Dog(Animal):\n",
        "    def make_sound(self):\n",
        "        return \"Woof!\"\n",
        "\n",
        "class Cat(Animal):\n",
        "    def make_sound(self):\n",
        "        return \"Meow!\"\n",
        "\n",
        "# Example usage demonstrating method overriding\n",
        "dog = Dog()\n",
        "cat = Cat()\n",
        "\n",
        "print(dog.make_sound())  # Outputs: \"Woof!\" (overrides the make_sound method in Animal)\n",
        "print(cat.make_sound())  # Outputs: \"Meow!\" (overrides the make_sound method in Animal)\n"
      ],
      "metadata": {
        "id": "Fdd49kyA5V_M"
      },
      "execution_count": null,
      "outputs": []
    },
    {
      "cell_type": "markdown",
      "source": [
        "Q. How is polymorphism different from method overloading in Python? Provide examples for both."
      ],
      "metadata": {
        "id": "p25FaYDl61rT"
      }
    },
    {
      "cell_type": "code",
      "source": [
        "'''\n",
        "Polymorphism:\n",
        "Polymorphism, in a broad sense, allows objects of different types to be treated as objects of a common type.\n",
        "It enables a single interface to represent multiple types or forms. Polymorphism can be achieved through method\n",
        "overriding, where a subclass provides a specific implementation for a method that is already defined in its\n",
        "superclass.\n",
        "\n",
        "Example of polymorphism using method overriding:'''\n",
        "class Animal:\n",
        "    def make_sound(self):\n",
        "        return \"Generic animal sound\"\n",
        "\n",
        "class Dog(Animal):\n",
        "    def make_sound(self):\n",
        "        return \"Woof!\"\n",
        "\n",
        "class Cat(Animal):\n",
        "    def make_sound(self):\n",
        "        return \"Meow!\"\n",
        "\n",
        "# Polymorphic behavior\n",
        "dog = Dog()\n",
        "cat = Cat()\n",
        "\n",
        "print(dog.make_sound())  # Outputs: \"Woof!\"\n",
        "print(cat.make_sound())  # Outputs: \"Meow!\"\n",
        "\n",
        "'''Method Overloading:\n",
        "Method overloading, on the other hand, involves defining multiple methods with the same name within a class,\n",
        "but with different parameter lists. In Python, method overloading is not directly supported like in some other\n",
        "languages (e.g., Java). However, you can achieve a similar effect using default values for parameters or\n",
        "variable-length argument lists.\n",
        "\n",
        "Example of method overloading (using default values for parameters):'''\n",
        "class Calculator:\n",
        "    def add(self, a, b=0, c=0):\n",
        "        return a + b + c\n",
        "\n",
        "# Method overloading behavior\n",
        "calc = Calculator()\n",
        "\n",
        "print(calc.add(2))       # Outputs: 2 (default values for b and c are used)\n",
        "print(calc.add(2, 3))    # Outputs: 5 (default value for c is used)\n",
        "print(calc.add(2, 3, 4)) # Outputs: 9 (all parameters are specified)\n",
        "\n"
      ],
      "metadata": {
        "id": "6BbhQQob6o6e"
      },
      "execution_count": null,
      "outputs": []
    },
    {
      "cell_type": "markdown",
      "source": [
        "Q. Create a Python class called `Animal` with a method `speak()`. Then, create child classes like `Dog`, `Cat`, and `Bird`, each with their own `speak()` method. Demonstrate polymorphism by calling the `speak()` method\n",
        "on objects of different subclasses."
      ],
      "metadata": {
        "id": "feG95rnd8eMw"
      }
    },
    {
      "cell_type": "code",
      "source": [
        "'''\n",
        " Example of a Python class called Animal with a method speak(), along with child classes Dog, Cat, and Bird,\n",
        "each with their own speak() method. Polymorphism is demonstrated by calling the speak() method on objects of\n",
        "different subclasses:'''\n",
        "class Animal:\n",
        "    def speak(self):\n",
        "        return \"Generic animal sound\"\n",
        "\n",
        "class Dog(Animal):\n",
        "    def speak(self):\n",
        "        return \"Woof!\"\n",
        "\n",
        "class Cat(Animal):\n",
        "    def speak(self):\n",
        "        return \"Meow!\"\n",
        "\n",
        "class Bird(Animal):\n",
        "    def speak(self):\n",
        "        return \"Chirp!\"\n",
        "\n",
        "# Demonstrate polymorphism\n",
        "dog = Dog()\n",
        "cat = Cat()\n",
        "bird = Bird()\n",
        "\n",
        "# Call the speak() method on objects of different subclasses\n",
        "print(\"Dog says:\", dog.speak())   # Outputs: \"Woof!\"\n",
        "print(\"Cat says:\", cat.speak())   # Outputs: \"Meow!\"\n",
        "print(\"Bird says:\", bird.speak()) # Outputs: \"Chirp!\"\n"
      ],
      "metadata": {
        "id": "agxeZqCp7skQ"
      },
      "execution_count": null,
      "outputs": []
    },
    {
      "cell_type": "markdown",
      "source": [
        "Q. Create a Python class hierarchy for a vehicle system (e.g., car, bicycle, boat) and implement a polymorphic `start()` method that prints a message specific to each vehicle type."
      ],
      "metadata": {
        "id": "S80vMe6T8yj7"
      }
    },
    {
      "cell_type": "code",
      "source": [
        "'''\n",
        "A Python class hierarchy for a vehicle system, including Car, Bicycle, and Boat. The classes implement\n",
        "a polymorphic start() method that prints a message specific to each vehicle type:'''\n",
        "class Vehicle:\n",
        "    def start(self):\n",
        "        return \"Generic vehicle starting\"\n",
        "\n",
        "class Car(Vehicle):\n",
        "    def start(self):\n",
        "        return \"Car engine starting\"\n",
        "\n",
        "class Bicycle(Vehicle):\n",
        "    def start(self):\n",
        "        return \"Pedaling the bicycle\"\n",
        "\n",
        "class Boat(Vehicle):\n",
        "    def start(self):\n",
        "        return \"Boat engine starting\"\n",
        "\n",
        "# Demonstrate polymorphism\n",
        "car = Car()\n",
        "bicycle = Bicycle()\n",
        "boat = Boat()\n",
        "\n",
        "# Call the start() method on objects of different subclasses\n",
        "print(\"Car:\", car.start())         # Outputs: \"Car engine starting\"\n",
        "print(\"Bicycle:\", bicycle.start())  # Outputs: \"Pedaling the bicycle\"\n",
        "print(\"Boat:\", boat.start())        # Outputs: \"Boat engine starting\"\n"
      ],
      "metadata": {
        "id": "86p7M4Sp8oNl"
      },
      "execution_count": null,
      "outputs": []
    },
    {
      "cell_type": "markdown",
      "source": [
        "Q. Create a Python class called `Shape` with a polymorphic method `area()` that calculates the area of different shapes (e.g., circle, rectangle, triangle)."
      ],
      "metadata": {
        "id": "-euD0MYa9lpq"
      }
    },
    {
      "cell_type": "code",
      "source": [
        "'''\n",
        " A Python class called Shape with a polymorphic method area() that calculates the area of different shapes such as\n",
        "Circle, Rectangle, and Triangle:'''\n",
        "import math\n",
        "\n",
        "class Shape:\n",
        "    def area(self):\n",
        "        return \"Area calculation for generic shape\"\n",
        "\n",
        "class Circle(Shape):\n",
        "    def __init__(self, radius):\n",
        "        self.radius = radius\n",
        "\n",
        "    def area(self):\n",
        "        return math.pi * self.radius**2\n",
        "\n",
        "class Rectangle(Shape):\n",
        "    def __init__(self, width, height):\n",
        "        self.width = width\n",
        "        self.height = height\n",
        "\n",
        "    def area(self):\n",
        "        return self.width * self.height\n",
        "\n",
        "class Triangle(Shape):\n",
        "    def __init__(self, base, height):\n",
        "        self.base = base\n",
        "        self.height = height\n",
        "\n",
        "    def area(self):\n",
        "        return 0.5 * self.base * self.height\n",
        "\n",
        "# Demonstrate polymorphism\n",
        "circle = Circle(radius=5)\n",
        "rectangle = Rectangle(width=4, height=6)\n",
        "triangle = Triangle(base=3, height=8)\n",
        "\n",
        "# Call the area() method on objects of different subclasses\n",
        "print(\"Circle area:\", circle.area())       # Outputs: Area of a circle\n",
        "print(\"Rectangle area:\", rectangle.area()) # Outputs: Area of a rectangle\n",
        "print(\"Triangle area:\", triangle.area())   # Outputs: Area of a triangle\n"
      ],
      "metadata": {
        "id": "V-dpMcsb9AnO"
      },
      "execution_count": null,
      "outputs": []
    },
    {
      "cell_type": "markdown",
      "source": [
        "Q. Explain the use of the `super()` function in Python polymorphism. How does it help call methods of parent\n",
        "classes?"
      ],
      "metadata": {
        "id": "7xE0FpY69580"
      }
    },
    {
      "cell_type": "code",
      "source": [
        "'''\n",
        "The super() function in Python is used to call methods and access attributes of a parent or superclass from within\n",
        "a subclass. It provides a way to invoke the method of the superclass and is commonly used in the context of method\n",
        "overriding in polymorphism.\n",
        "\n",
        "The primary purpose of super() is to ensure that the overridden method in the subclass can call the method\n",
        "from the superclass before or after adding its specific functionality. This helps in maintaining the integrity\n",
        "of the overridden method and avoids duplicating code that is already present in the superclass.\n",
        "\n",
        "Here's a simple example to illustrate the use of super() in polymorphism:'''\n",
        "class Animal:\n",
        "    def speak(self):\n",
        "        return \"Generic animal sound\"\n",
        "\n",
        "class Dog(Animal):\n",
        "    def speak(self):\n",
        "        # Calling the speak() method of the superclass (Animal)\n",
        "        return super().speak() + \" and barks: Woof!\"\n",
        "\n",
        "# Demonstrate polymorphism using super()\n",
        "dog = Dog()\n",
        "\n",
        "# Call the speak() method of the Dog class, which overrides the speak() method in Animal\n",
        "print(dog.speak())  # Outputs: \"Generic animal sound and barks: Woof!\"\n"
      ],
      "metadata": {
        "id": "gk0EYo0i9yr8"
      },
      "execution_count": null,
      "outputs": []
    },
    {
      "cell_type": "markdown",
      "source": [
        "Q. Create a Python class hierarchy for a banking system with various account types (e.g., savings, checking, credit card) and demonstrate polymorphism by implementing a common `withdraw()` method."
      ],
      "metadata": {
        "id": "NW2j3epH-Xok"
      }
    },
    {
      "cell_type": "code",
      "source": [
        "'''\n",
        "A Python class hierarchy for a banking system with various account types, including SavingsAccount,\n",
        "CheckingAccount, and CreditCardAccount. The classes demonstrate polymorphism by implementing a common withdraw()\n",
        "method:'''\n",
        "class BankAccount:\n",
        "    def __init__(self, account_number, balance):\n",
        "        self.account_number = account_number\n",
        "        self.balance = balance\n",
        "\n",
        "    def withdraw(self, amount):\n",
        "        if amount > 0 and amount <= self.balance:\n",
        "            self.balance -= amount\n",
        "            return f\"Withdrawal of ${amount} successful. New balance: ${self.balance}\"\n",
        "        else:\n",
        "            return \"Invalid withdrawal amount or insufficient funds.\"\n",
        "\n",
        "class SavingsAccount(BankAccount):\n",
        "    def __init__(self, account_number, balance, interest_rate):\n",
        "        super().__init__(account_number, balance)\n",
        "        self.interest_rate = interest_rate\n",
        "\n",
        "    def withdraw(self, amount):\n",
        "        # Adding special logic for SavingsAccount withdrawal\n",
        "        withdrawal_fee = 2\n",
        "        withdrawal_amount = amount + withdrawal_fee\n",
        "\n",
        "        # Using super() to call the withdraw() method from the parent class\n",
        "        return super().withdraw(withdrawal_amount)\n",
        "\n",
        "class CheckingAccount(BankAccount):\n",
        "    def __init__(self, account_number, balance, overdraft_limit):\n",
        "        super().__init__(account_number, balance)\n",
        "        self.overdraft_limit = overdraft_limit\n",
        "\n",
        "    def withdraw(self, amount):\n",
        "        # Adding special logic for CheckingAccount withdrawal with overdraft\n",
        "        allowed_withdrawal = self.balance + self.overdraft_limit\n",
        "\n",
        "        if amount <= allowed_withdrawal:\n",
        "            return super().withdraw(amount)\n",
        "        else:\n",
        "            return \"Withdrawal exceeds allowed limit.\"\n",
        "\n",
        "class CreditCardAccount(BankAccount):\n",
        "    def __init__(self, account_number, balance, credit_limit):\n",
        "        super().__init__(account_number, balance)\n",
        "        self.credit_limit = credit_limit\n",
        "\n",
        "    def withdraw(self, amount):\n",
        "        # Adding special logic for CreditCardAccount withdrawal with credit limit\n",
        "        allowed_withdrawal = self.balance + self.credit_limit\n",
        "\n",
        "        if amount <= allowed_withdrawal:\n",
        "            return super().withdraw(amount)\n",
        "        else:\n",
        "            return \"Withdrawal exceeds allowed credit limit.\"\n",
        "\n",
        "# Demonstrate polymorphism\n",
        "savings_account = SavingsAccount(account_number=\"SA123\", balance=1000, interest_rate=0.03)\n",
        "checking_account = CheckingAccount(account_number=\"CA456\", balance=2000, overdraft_limit=500)\n",
        "credit_card_account = CreditCardAccount(account_number=\"CC789\", balance=-500, credit_limit=1000)\n",
        "\n",
        "# Call the withdraw() method on objects of different subclasses\n",
        "print(\"Savings Account:\", savings_account.withdraw(50))\n",
        "print(\"Checking Account:\", checking_account.withdraw(2500))\n",
        "print(\"Credit Card Account:\", credit_card_account.withdraw(800))\n"
      ],
      "metadata": {
        "id": "PhRdJgYa-Jtk"
      },
      "execution_count": null,
      "outputs": []
    },
    {
      "cell_type": "markdown",
      "source": [
        "Q. 17. Create a Python class hierarchy for employees in a company (e.g., manager, developer, designer) and implement polymorphism through a common `calculate_salary()` method."
      ],
      "metadata": {
        "id": "Jbpz7-75-z6B"
      }
    },
    {
      "cell_type": "code",
      "source": [
        "'''\n",
        "A Python class hierarchy for employees in a company, including Manager, Developer, and Designer.\n",
        "The classes demonstrate polymorphism by implementing a common calculate_salary() method:'''\n",
        "class Employee:\n",
        "    def __init__(self, emp_id, name):\n",
        "        self.emp_id = emp_id\n",
        "        self.name = name\n",
        "\n",
        "    def calculate_salary(self):\n",
        "        return \"Salary calculation for a generic employee\"\n",
        "\n",
        "class Manager(Employee):\n",
        "    def __init__(self, emp_id, name, base_salary, bonus):\n",
        "        super().__init__(emp_id, name)\n",
        "        self.base_salary = base_salary\n",
        "        self.bonus = bonus\n",
        "\n",
        "    def calculate_salary(self):\n",
        "        return self.base_salary + self.bonus\n",
        "\n",
        "class Developer(Employee):\n",
        "    def __init__(self, emp_id, name, hourly_rate, hours_worked):\n",
        "        super().__init__(emp_id, name)\n",
        "        self.hourly_rate = hourly_rate\n",
        "        self.hours_worked = hours_worked\n",
        "\n",
        "    def calculate_salary(self):\n",
        "        return self.hourly_rate * self.hours_worked\n",
        "\n",
        "class Designer(Employee):\n",
        "    def __init__(self, emp_id, name, monthly_salary, projects_completed):\n",
        "        super().__init__(emp_id, name)\n",
        "        self.monthly_salary = monthly_salary\n",
        "        self.projects_completed = projects_completed\n",
        "\n",
        "    def calculate_salary(self):\n",
        "        bonus_per_project = 1000\n",
        "        return self.monthly_salary + (self.projects_completed * bonus_per_project)\n",
        "\n",
        "# Demonstrate polymorphism\n",
        "manager = Manager(emp_id=101, name=\"John Doe\", base_salary=50000, bonus=10000)\n",
        "developer = Developer(emp_id=102, name=\"Jane Smith\", hourly_rate=30, hours_worked=160)\n",
        "designer = Designer(emp_id=103, name=\"Alice Johnson\", monthly_salary=6000, projects_completed=5)\n",
        "\n",
        "# Call the calculate_salary() method on objects of different subclasses\n",
        "print(\"Manager's Salary:\", manager.calculate_salary())\n",
        "print(\"Developer's Salary:\", developer.calculate_salary())\n",
        "print(\"Designer's Salary:\", designer.calculate_salary())\n",
        "\n",
        "\n",
        "\n"
      ],
      "metadata": {
        "id": "r6DV0h4E-laT"
      },
      "execution_count": null,
      "outputs": []
    },
    {
      "cell_type": "markdown",
      "source": [
        "Q. Create a Python class for a zoo simulation, demonstrating polymorphism with different animal types (e.g., mammals, birds, reptiles) and their behavior (e.g., eating, sleeping, making sounds)."
      ],
      "metadata": {
        "id": "y2Zcf6I2_V0X"
      }
    },
    {
      "cell_type": "code",
      "source": [
        "'''\n",
        "A Python class for a zoo simulation, demonstrating polymorphism with different animal types such as Mammal, Bird,\n",
        "and Reptile, along with their specific behaviors like eating, sleeping, and making sounds:'''\n",
        "class Animal:\n",
        "    def __init__(self, name):\n",
        "        self.name = name\n",
        "\n",
        "    def eat(self):\n",
        "        return f\"{self.name} is eating\"\n",
        "\n",
        "    def sleep(self):\n",
        "        return f\"{self.name} is sleeping\"\n",
        "\n",
        "    def make_sound(self):\n",
        "        return f\"{self.name} makes a generic sound\"\n",
        "\n",
        "class Mammal(Animal):\n",
        "    def make_sound(self):\n",
        "        return f\"{self.name} makes a mammal sound\"\n",
        "\n",
        "class Bird(Animal):\n",
        "    def make_sound(self):\n",
        "        return f\"{self.name} chirps like a bird\"\n",
        "\n",
        "class Reptile(Animal):\n",
        "    def make_sound(self):\n",
        "        return f\"{self.name} hisses like a reptile\"\n",
        "\n",
        "# Zoo simulation\n",
        "lion = Mammal(name=\"Lion\")\n",
        "parrot = Bird(name=\"Parrot\")\n",
        "snake = Reptile(name=\"Snake\")\n",
        "\n",
        "# Demonstrate polymorphism\n",
        "zoo_animals = [lion, parrot, snake]\n",
        "\n",
        "for animal in zoo_animals:\n",
        "    print(animal.eat())\n",
        "    print(animal.sleep())\n",
        "    print(animal.make_sound())\n",
        "    print(\"---\")\n"
      ],
      "metadata": {
        "id": "ytQid4CQ_Ma9"
      },
      "execution_count": null,
      "outputs": []
    },
    {
      "cell_type": "markdown",
      "source": [
        "# **Abstraction:**"
      ],
      "metadata": {
        "id": "XANd_aJ5tlAR"
      }
    },
    {
      "cell_type": "markdown",
      "source": [],
      "metadata": {
        "id": "LgK9gKn4t5mc"
      }
    },
    {
      "cell_type": "code",
      "source": [
        "'''Abstraction in Python, as well as in object-oriented programming (OOP) more generally, is a fundamental\n",
        "concept that involves simplifying complex systems by modeling classes based on essential properties and behaviors\n",
        "while hiding unnecessary details.\n",
        "\n",
        "In Python and OOP, abstraction is closely tied to the idea of abstract classes and abstract methods:\n",
        "\n",
        "Abstract Classes:\n",
        "An abstract class is a class that cannot be instantiated on its own. It serves as a blueprint for other classes\n",
        "and typically contains abstract methods.\n",
        "Abstract classes may also have concrete methods, but they are meant to be overridden in the subclasses.\n",
        "In Python, you can create an abstract class using the ABC (Abstract Base Class) module from the abc module.\n",
        "\n",
        "Abstract Methods:\n",
        "An abstract method is a method declared in an abstract class that has no implementation in the abstract class itself.\n",
        "Subclasses of an abstract class must provide concrete implementations for all abstract methods, ensuring that essential\n",
        "behaviors are defined in the derived classes.\n",
        "\n",
        "Here's a simple example to illustrate abstraction in Python:'''\n",
        "from abc import ABC, abstractmethod\n",
        "\n",
        "# Abstract class\n",
        "class Shape(ABC):\n",
        "    @abstractmethod\n",
        "    def area(self):\n",
        "        pass\n",
        "\n",
        "    @abstractmethod\n",
        "    def perimeter(self):\n",
        "        pass\n",
        "\n",
        "# Concrete subclass\n",
        "class Circle(Shape):\n",
        "    def __init__(self, radius):\n",
        "        self.radius = radius\n",
        "\n",
        "    def area(self):\n",
        "        return 3.14 * self.radius**2\n",
        "\n",
        "    def perimeter(self):\n",
        "        return 2 * 3.14 * self.radius\n",
        "\n",
        "# Concrete subclass\n",
        "class Rectangle(Shape):\n",
        "    def __init__(self, length, width):\n",
        "        self.length = length\n",
        "        self.width = width\n",
        "\n",
        "    def area(self):\n",
        "        return self.length * self.width\n",
        "\n",
        "    def perimeter(self):\n",
        "        return 2 * (self.length + self.width)\n",
        "\n",
        "# Usage\n",
        "circle = Circle(radius=5)\n",
        "rectangle = Rectangle(length=4, width=6)\n",
        "\n",
        "print(\"Circle Area:\", circle.area())\n",
        "print(\"Circle Perimeter:\", circle.perimeter())\n",
        "\n",
        "print(\"Rectangle Area:\", rectangle.area())\n",
        "print(\"Rectangle Perimeter:\", rectangle.perimeter())\n"
      ],
      "metadata": {
        "id": "uT370L4x_gUz"
      },
      "execution_count": null,
      "outputs": []
    },
    {
      "cell_type": "markdown",
      "source": [
        "Q. Describe the benefits of abstraction in terms of code organization and complexity reduction."
      ],
      "metadata": {
        "id": "7jMUwXfhwmfZ"
      }
    },
    {
      "cell_type": "code",
      "source": [
        "'''\n",
        "Abstraction in programming, especially in the context of object-oriented programming, offers several benefits in terms of code organization and complexity reduction:\n",
        "\n",
        "Modularity:\n",
        "\n",
        "Abstraction allows you to break down complex systems into modular components represented by classes and interfaces.\n",
        "Each module encapsulates specific functionalities, making it easier to understand, maintain, and modify independently.\n",
        "\n",
        "Code Reusability:\n",
        "Abstract classes and interfaces provide a blueprint for creating concrete implementations in multiple classes.\n",
        "Code written for abstract classes and interfaces can be reused across various parts of a program or in different projects.\n",
        "\n",
        "Encapsulation:\n",
        "Abstraction encourages encapsulation, the bundling of data and methods that operate on the data within a single unit (class or object).\n",
        "Encapsulation helps in hiding the internal details of an object and exposing only what is necessary, promoting information hiding and reducing complexity.\n",
        "\n",
        "Hierarchy and Inheritance:\n",
        "Abstraction facilitates the creation of class hierarchies and inheritance, allowing you to model relationships between classes.\n",
        "Inheritance enables the reuse of code from a superclass to subclasses, promoting a hierarchical organization of classes.\n",
        "Readability and Understandability:\n",
        "\n",
        "Abstraction allows you to represent complex concepts at a higher level of abstraction, making the code more readable and understandable.\n",
        "High-level abstractions can be used to describe system behavior without delving into implementation details.\n",
        "\n",
        "Flexibility and Extensibility:\n",
        "Abstraction provides a flexible and extensible framework for designing and implementing systems.\n",
        "Changes to the internal implementation of a class can be made without affecting the external code that uses the class's interface.\n",
        "\n",
        "Maintenance and Debugging:\n",
        "With abstraction, changes to a specific module or component can be isolated, reducing the impact on the rest of the system.\n",
        "Debugging becomes more straightforward as the focus can be on the specific module or class where an issue occurs.\n",
        "\n",
        "Adaptability to Change:\n",
        "Abstraction allows for a separation between the interface and the implementation, making it easier to adapt to changing requirements or technologies.\n",
        "New implementations can be introduced without affecting the existing code that relies on the abstract interfaces."
      ],
      "metadata": {
        "id": "m0Sx81hFwCEv"
      },
      "execution_count": null,
      "outputs": []
    },
    {
      "cell_type": "markdown",
      "source": [
        "Q. 3. Create a Python class called `Shape` with an abstract method `calculate_area()`. Then, create child classes (e.g., `Circle`, `Rectangle`) that implement the `calculate_area()` method. Provide an example of\n",
        "using these classes."
      ],
      "metadata": {
        "id": "cM0w_upXRS3k"
      }
    },
    {
      "cell_type": "code",
      "source": [
        "# A Python class called Shape with an abstract method calculate_area(). Then, I've created child classes Circle and Rectangle that implement the calculate_area() method. Finally, there's an example of using these classes:\n",
        "from abc import ABC, abstractmethod\n",
        "\n",
        "class Shape(ABC):\n",
        "    @abstractmethod\n",
        "    def calculate_area(self):\n",
        "        pass\n",
        "\n",
        "class Circle(Shape):\n",
        "    def __init__(self, radius):\n",
        "        self.radius = radius\n",
        "\n",
        "    def calculate_area(self):\n",
        "        return 3.14 * self.radius**2\n",
        "\n",
        "class Rectangle(Shape):\n",
        "    def __init__(self, length, width):\n",
        "        self.length = length\n",
        "        self.width = width\n",
        "\n",
        "    def calculate_area(self):\n",
        "        return self.length * self.width\n",
        "\n",
        "# Example of using the classes\n",
        "circle = Circle(radius=5)\n",
        "rectangle = Rectangle(length=4, width=6)\n",
        "\n",
        "# Calculate and display the area of each shape\n",
        "print(\"Circle Area:\", circle.calculate_area())\n",
        "print(\"Rectangle Area:\", rectangle.calculate_area())\n"
      ],
      "metadata": {
        "id": "1tLjIrDnRy8e"
      },
      "execution_count": null,
      "outputs": []
    },
    {
      "cell_type": "markdown",
      "source": [
        "Q. Create a Python class for a bank account and demonstrate abstraction by hiding the account balance and\n",
        "providing methods to deposit and withdraw funds."
      ],
      "metadata": {
        "id": "XVFtbptJSNT1"
      }
    },
    {
      "cell_type": "code",
      "source": [
        "\"\"\" A Python class for a bank account that demonstrates abstraction by hiding\n",
        " the account balance and providing methods to deposit and withdraw funds:\"\"\"\n",
        "\n",
        "from abc import ABC, abstractmethod\n",
        "\n",
        "class BankAccount(ABC):\n",
        "    def __init__(self, account_number, initial_balance=0.0):\n",
        "        self.account_number = account_number\n",
        "        self._balance = initial_balance  # Using a protected attribute for balance\n",
        "\n",
        "    @abstractmethod\n",
        "    def display_balance(self):\n",
        "        pass\n",
        "\n",
        "    def deposit(self, amount):\n",
        "        if amount > 0:\n",
        "            self._balance += amount\n",
        "            return f\"Deposited ${amount}. New balance: ${self._balance}\"\n",
        "        else:\n",
        "            return \"Invalid deposit amount.\"\n",
        "\n",
        "    def withdraw(self, amount):\n",
        "        if 0 < amount <= self._balance:\n",
        "            self._balance -= amount\n",
        "            return f\"Withdrew ${amount}. New balance: ${self._balance}\"\n",
        "        else:\n",
        "            return \"Invalid withdrawal amount or insufficient funds.\"\n",
        "\n",
        "class SavingsAccount(BankAccount):\n",
        "    def __init__(self, account_number, initial_balance=0.0, interest_rate=0.01):\n",
        "        super().__init__(account_number, initial_balance)\n",
        "        self.interest_rate = interest_rate\n",
        "\n",
        "    def display_balance(self):\n",
        "        return f\"Savings Account #{self.account_number} Balance: ${self._balance} (Interest Rate: {self.interest_rate})\"\n",
        "\n",
        "class CheckingAccount(BankAccount):\n",
        "    def __init__(self, account_number, initial_balance=0.0, overdraft_limit=100.0):\n",
        "        super().__init__(account_number, initial_balance)\n",
        "        self.overdraft_limit = overdraft_limit\n",
        "\n",
        "    def display_balance(self):\n",
        "        return f\"Checking Account #{self.account_number} Balance: ${self._balance} (Overdraft Limit: ${self.overdraft_limit})\"\n",
        "\n",
        "# Demonstrate abstraction in action\n",
        "savings_account = SavingsAccount(account_number=\"SA123\", initial_balance=1000, interest_rate=0.02)\n",
        "checking_account = CheckingAccount(account_number=\"CA456\", initial_balance=2000, overdraft_limit=500)\n",
        "\n",
        "# Accessing balance through display_balance method (abstraction)\n",
        "print(savings_account.display_balance())\n",
        "print(checking_account.display_balance())\n",
        "\n",
        "# Depositing and withdrawing funds\n",
        "print(savings_account.deposit(500))\n",
        "print(savings_account.withdraw(200))\n",
        "\n",
        "print(checking_account.deposit(1000))\n",
        "print(checking_account.withdraw(2500))  # Attempting to withdraw more than the balance\n"
      ],
      "metadata": {
        "id": "jwfoaynDR9VW"
      },
      "execution_count": null,
      "outputs": []
    },
    {
      "cell_type": "markdown",
      "source": [
        "Q. Create a Python class hierarchy for animals and implement abstraction by defining common methods"
      ],
      "metadata": {
        "id": "xkz7pid6TEEL"
      }
    },
    {
      "cell_type": "code",
      "source": [
        "# A Python class hierarchy for animals that implements abstraction by defining common methods in an abstract class:\n",
        "from abc import ABC, abstractmethod\n",
        "\n",
        "class Animal(ABC):\n",
        "    def __init__(self, name, sound):\n",
        "        self.name = name\n",
        "        self.sound = sound\n",
        "\n",
        "    @abstractmethod\n",
        "    def make_sound(self):\n",
        "        pass\n",
        "\n",
        "    def eat(self):\n",
        "        return f\"{self.name} is eating.\"\n",
        "\n",
        "    def sleep(self):\n",
        "        return f\"{self.name} is sleeping.\"\n",
        "\n",
        "class Mammal(Animal):\n",
        "    def __init__(self, name, sound, fur_color):\n",
        "        super().__init__(name, sound)\n",
        "        self.fur_color = fur_color\n",
        "\n",
        "    def make_sound(self):\n",
        "        return f\"{self.name} makes a {self.sound} sound.\"\n",
        "\n",
        "    def give_birth(self):\n",
        "        return f\"{self.name} gives birth to live young.\"\n",
        "\n",
        "class Bird(Animal):\n",
        "    def __init__(self, name, sound, feather_color):\n",
        "        super().__init__(name, sound)\n",
        "        self.feather_color = feather_color\n",
        "\n",
        "    def make_sound(self):\n",
        "        return f\"{self.name} chirps and makes a {self.sound} sound.\"\n",
        "\n",
        "    def lay_eggs(self):\n",
        "        return f\"{self.name} lays eggs in a nest.\"\n",
        "\n",
        "class Reptile(Animal):\n",
        "    def __init__(self, name, sound, scale_type):\n",
        "        super().__init__(name, sound)\n",
        "        self.scale_type = scale_type\n",
        "\n",
        "    def make_sound(self):\n",
        "        return f\"{self.name} hisses and makes a {self.sound} sound.\"\n",
        "\n",
        "    def lay_eggs(self):\n",
        "        return f\"{self.name} lays eggs in a burrow.\"\n",
        "\n",
        "# Demonstrate abstraction in action\n",
        "lion = Mammal(name=\"Lion\", sound=\"roar\", fur_color=\"golden\")\n",
        "parrot = Bird(name=\"Parrot\", sound=\"squawk\", feather_color=\"green\")\n",
        "snake = Reptile(name=\"Snake\", sound=\"hiss\", scale_type=\"smooth\")\n",
        "\n",
        "# Common methods can be called on objects of different subclasses\n",
        "print(lion.make_sound())\n",
        "print(lion.eat())\n",
        "print(parrot.make_sound())\n",
        "print(parrot.sleep())\n",
        "print(snake.make_sound())\n",
        "print(snake.lay_eggs())\n"
      ],
      "metadata": {
        "id": "zC8yiKsHSoWX"
      },
      "execution_count": null,
      "outputs": []
    },
    {
      "cell_type": "markdown",
      "source": [
        "Q. What is the purpose of abstract methods, and how do they enforce abstraction in Python classes?"
      ],
      "metadata": {
        "id": "tf22wglUTkVe"
      }
    },
    {
      "cell_type": "code",
      "source": [
        "\"\"\"\n",
        "Abstract methods in Python serve the purpose of defining a method signature in an abstract base class (ABC)\n",
        "without providing an implementation. The primary goal is to ensure that all concrete subclasses must provide their\n",
        "own implementation for these abstract methods. Abstract methods enforce abstraction by requiring concrete subclasses\n",
        "to adhere to a common interface, thereby promoting a level of consistency and standardization across the class\n",
        "hierarchy.\n",
        "\n",
        "Here are key points about abstract methods and how they enforce abstraction in Python classes:\n",
        "\n",
        "Method Signature Definition:\n",
        "Abstract methods define the method signature, including the method name and its parameters, without specifying\n",
        "the actual implementation.\n",
        "The @abstractmethod decorator is used to mark a method as abstract in an abstract base class.\n",
        "\n",
        "No Implementation in Abstract Class:\n",
        "Abstract classes cannot be instantiated on their own, and they may contain a mix of abstract methods and concrete methods.\n",
        "Abstract methods in the abstract class itself do not have an implementation.\n",
        "\n",
        "Enforcement in Subclasses:\n",
        "Concrete subclasses that inherit from an abstract base class must provide a concrete implementation for all\n",
        "abstract methods.\n",
        "If a concrete subclass fails to implement any abstract method, it becomes abstract itself, and instances of\n",
        "that subclass cannot be created.\n",
        "\n",
        "Common Interface:\n",
        "Abstract methods define a common interface that concrete subclasses must adhere to.\n",
        "This common interface ensures that different subclasses share a similar structure, making it easier to work\n",
        "with them interchangeably.\n",
        "\n",
        "Here's a simple example to illustrate the purpose of abstract methods and how they enforce abstraction:\"\"\"\n",
        "\n",
        "from abc import ABC, abstractmethod\n",
        "\n",
        "class Shape(ABC):\n",
        "    @abstractmethod\n",
        "    def calculate_area(self):\n",
        "        pass\n",
        "\n",
        "    @abstractmethod\n",
        "    def display_info(self):\n",
        "        pass\n",
        "\n",
        "class Circle(Shape):\n",
        "    def __init__(self, radius):\n",
        "        self.radius = radius\n",
        "\n",
        "    def calculate_area(self):\n",
        "        return 3.14 * self.radius**2\n",
        "\n",
        "    def display_info(self):\n",
        "        return f\"Circle with radius {self.radius}\"\n",
        "\n",
        "class Rectangle(Shape):\n",
        "    def __init__(self, length, width):\n",
        "        self.length = length\n",
        "        self.width = width\n",
        "\n",
        "    def calculate_area(self):\n",
        "        return self.length * self.width\n",
        "\n",
        "    def display_info(self):\n",
        "        return f\"Rectangle with length {self.length} and width {self.width}\"\n",
        "\n",
        "# Demonstrate abstraction in action\n",
        "circle = Circle(radius=5)\n",
        "rectangle = Rectangle(length=4, width=6)\n",
        "\n",
        "# Using common interface of abstract methods\n",
        "print(circle.calculate_area())\n",
        "print(circle.display_info())\n",
        "\n",
        "print(rectangle.calculate_area())\n",
        "print(rectangle.display_info())\n"
      ],
      "metadata": {
        "id": "pS6GrLF-TXpQ"
      },
      "execution_count": null,
      "outputs": []
    },
    {
      "cell_type": "markdown",
      "source": [
        "Q. Create a Python class for a vehicle system and demonstrate abstraction by defining common methods"
      ],
      "metadata": {
        "id": "0TBWnxekUnvP"
      }
    },
    {
      "cell_type": "code",
      "source": [
        "\"\"\"\n",
        "a Python class for a vehicle system that demonstrates abstraction by defining common methods in an abstract class:\n",
        "\"\"\"\n",
        "from abc import ABC, abstractmethod\n",
        "\n",
        "class Vehicle(ABC):\n",
        "    def __init__(self, make, model, year):\n",
        "        self.make = make\n",
        "        self.model = model\n",
        "        self.year = year\n",
        "\n",
        "    @abstractmethod\n",
        "    def start(self):\n",
        "        pass\n",
        "\n",
        "    @abstractmethod\n",
        "    def accelerate(self):\n",
        "        pass\n",
        "\n",
        "    @abstractmethod\n",
        "    def brake(self):\n",
        "        pass\n",
        "\n",
        "    def display_info(self):\n",
        "        return f\"{self.year} {self.make} {self.model}\"\n",
        "\n",
        "class Car(Vehicle):\n",
        "    def __init__(self, make, model, year, num_doors):\n",
        "        super().__init__(make, model, year)\n",
        "        self.num_doors = num_doors\n",
        "        self.speed = 0\n",
        "\n",
        "    def start(self):\n",
        "        return f\"{self.display_info()} started. Engine running.\"\n",
        "\n",
        "    def accelerate(self):\n",
        "        self.speed += 10\n",
        "        return f\"{self.display_info()} is accelerating. Current speed: {self.speed} km/h.\"\n",
        "\n",
        "    def brake(self):\n",
        "        if self.speed > 0:\n",
        "            self.speed -= 5\n",
        "            return f\"{self.display_info()} is braking. Current speed: {self.speed} km/h.\"\n",
        "        else:\n",
        "            return f\"{self.display_info()} is stationary. Cannot brake.\"\n",
        "\n",
        "class Bicycle(Vehicle):\n",
        "    def __init__(self, make, model, year, num_gears):\n",
        "        super().__init__(make, model, year)\n",
        "        self.num_gears = num_gears\n",
        "        self.speed = 0\n",
        "\n",
        "    def start(self):\n",
        "        return f\"{self.display_info()} started. Ready to pedal.\"\n",
        "\n",
        "    def accelerate(self):\n",
        "        self.speed += 5\n",
        "        return f\"{self.display_info()} is pedaling. Current speed: {self.speed} km/h.\"\n",
        "\n",
        "    def brake(self):\n",
        "        if self.speed > 0:\n",
        "            self.speed -= 2\n",
        "            return f\"{self.display_info()} is braking. Current speed: {self.speed} km/h.\"\n",
        "        else:\n",
        "            return f\"{self.display_info()} is stationary. Cannot brake.\"\n",
        "\n",
        "# Demonstrate abstraction in action\n",
        "car = Car(make=\"Toyota\", model=\"Camry\", year=2022, num_doors=4)\n",
        "bicycle = Bicycle(make=\"Schwinn\", model=\"Mountain Bike\", year=2022, num_gears=21)\n",
        "\n",
        "# Using common methods defined in the abstract class\n",
        "print(car.start())\n",
        "print(car.accelerate())\n",
        "print(car.brake())\n",
        "\n",
        "print(bicycle.start())\n",
        "print(bicycle.accelerate())\n",
        "print(bicycle.brake())\n"
      ],
      "metadata": {
        "id": "utR87FSGURHk"
      },
      "execution_count": null,
      "outputs": []
    },
    {
      "cell_type": "markdown",
      "source": [
        "Q. Create a Python class hierarchy for employees in a company (e.g., manager, developer, designer) and"
      ],
      "metadata": {
        "id": "1RJFlPYbVJ56"
      }
    },
    {
      "cell_type": "code",
      "source": [
        "\"\"\"\n",
        "Python class hierarchy for employees in a company, including classes for Manager, Developer, and Designer:\n",
        "\"\"\"\n",
        "from abc import ABC, abstractmethod\n",
        "\n",
        "class Employee(ABC):\n",
        "    def __init__(self, name, employee_id):\n",
        "        self.name = name\n",
        "        self.employee_id = employee_id\n",
        "\n",
        "    @abstractmethod\n",
        "    def calculate_salary(self):\n",
        "        pass\n",
        "\n",
        "    def display_info(self):\n",
        "        return f\"Employee ID: {self.employee_id}, Name: {self.name}\"\n",
        "\n",
        "class Manager(Employee):\n",
        "    def __init__(self, name, employee_id, team_size):\n",
        "        super().__init__(name, employee_id)\n",
        "        self.team_size = team_size\n",
        "\n",
        "    def calculate_salary(self):\n",
        "        base_salary = 80000\n",
        "        bonus = self.team_size * 5000\n",
        "        return base_salary + bonus\n",
        "\n",
        "    def display_info(self):\n",
        "        return f\"Manager - {super().display_info()}, Team Size: {self.team_size}\"\n",
        "\n",
        "class Developer(Employee):\n",
        "    def __init__(self, name, employee_id, programming_language):\n",
        "        super().__init__(name, employee_id)\n",
        "        self.programming_language = programming_language\n",
        "\n",
        "    def calculate_salary(self):\n",
        "        base_salary = 60000\n",
        "        if self.programming_language.lower() == \"python\":\n",
        "            bonus = 10000\n",
        "        else:\n",
        "            bonus = 5000\n",
        "        return base_salary + bonus\n",
        "\n",
        "    def display_info(self):\n",
        "        return f\"Developer - {super().display_info()}, Programming Language: {self.programming_language}\"\n",
        "\n",
        "class Designer(Employee):\n",
        "    def __init__(self, name, employee_id, experience_years):\n",
        "        super().__init__(name, employee_id)\n",
        "        self.experience_years = experience_years\n",
        "\n",
        "    def calculate_salary(self):\n",
        "        base_salary = 50000\n",
        "        bonus = self.experience_years * 2000\n",
        "        return base_salary + bonus\n",
        "\n",
        "    def display_info(self):\n",
        "        return f\"Designer - {super().display_info()}, Experience Years: {self.experience_years}\"\n",
        "\n",
        "# Demonstrate the class hierarchy\n",
        "manager = Manager(name=\"John Manager\", employee_id=\"M123\", team_size=8)\n",
        "developer = Developer(name=\"Alice Developer\", employee_id=\"D456\", programming_language=\"Python\")\n",
        "designer = Designer(name=\"Bob Designer\", employee_id=\"DS789\", experience_years=5)\n",
        "\n",
        "# Display information and calculate salaries\n",
        "print(manager.display_info())\n",
        "print(f\"Salary: ${manager.calculate_salary()}\\n\")\n",
        "\n",
        "print(developer.display_info())\n",
        "print(f\"Salary: ${developer.calculate_salary()}\\n\")\n",
        "\n",
        "print(designer.display_info())\n",
        "print(f\"Salary: ${designer.calculate_salary()}\\n\")\n"
      ],
      "metadata": {
        "id": "obYiPE8vU-8A"
      },
      "execution_count": null,
      "outputs": []
    },
    {
      "cell_type": "markdown",
      "source": [
        "Q. Create a Python class for a computer system, demonstrating abstraction by defining common methods"
      ],
      "metadata": {
        "id": "kemwPzRgVinJ"
      }
    },
    {
      "cell_type": "code",
      "source": [
        "\"\"\"\n",
        "Below is an example of a Python class for a computer system that demonstrates abstraction by defining\n",
        "common methods in an abstract class:\"\"\"\n",
        "from abc import ABC, abstractmethod\n",
        "\n",
        "class ComputerSystem(ABC):\n",
        "    def __init__(self, brand, model, operating_system):\n",
        "        self.brand = brand\n",
        "        self.model = model\n",
        "        self.operating_system = operating_system\n",
        "\n",
        "    @abstractmethod\n",
        "    def power_on(self):\n",
        "        pass\n",
        "\n",
        "    @abstractmethod\n",
        "    def power_off(self):\n",
        "        pass\n",
        "\n",
        "    @abstractmethod\n",
        "    def run_application(self, application):\n",
        "        pass\n",
        "\n",
        "    def display_info(self):\n",
        "        return f\"{self.brand} {self.model} - Operating System: {self.operating_system}\"\n",
        "\n",
        "class Laptop(ComputerSystem):\n",
        "    def __init__(self, brand, model, operating_system, battery_life):\n",
        "        super().__init__(brand, model, operating_system)\n",
        "        self.battery_life = battery_life\n",
        "        self.powered_on = False\n",
        "\n",
        "    def power_on(self):\n",
        "        if not self.powered_on:\n",
        "            self.powered_on = True\n",
        "            return \"Laptop is powered on.\"\n",
        "        else:\n",
        "            return \"Laptop is already powered on.\"\n",
        "\n",
        "    def power_off(self):\n",
        "        if self.powered_on:\n",
        "            self.powered_on = False\n",
        "            return \"Laptop is powered off.\"\n",
        "        else:\n",
        "            return \"Laptop is already powered off.\"\n",
        "\n",
        "    def run_application(self, application):\n",
        "        if self.powered_on:\n",
        "            return f\"Laptop is running {application}.\"\n",
        "        else:\n",
        "            return \"Laptop is powered off. Cannot run applications.\"\n",
        "\n",
        "class Desktop(ComputerSystem):\n",
        "    def __init__(self, brand, model, operating_system, monitor_size):\n",
        "        super().__init__(brand, model, operating_system)\n",
        "        self.monitor_size = monitor_size\n",
        "        self.powered_on = False\n",
        "\n",
        "    def power_on(self):\n",
        "        if not self.powered_on:\n",
        "            self.powered_on = True\n",
        "            return \"Desktop is powered on.\"\n",
        "        else:\n",
        "            return \"Desktop is already powered on.\"\n",
        "\n",
        "    def power_off(self):\n",
        "        if self.powered_on:\n",
        "            self.powered_on = False\n",
        "            return \"Desktop is powered off.\"\n",
        "        else:\n",
        "            return \"Desktop is already powered off.\"\n",
        "\n",
        "    def run_application(self, application):\n",
        "        if self.powered_on:\n",
        "            return f\"Desktop is running {application}.\"\n",
        "        else:\n",
        "            return \"Desktop is powered off. Cannot run applications.\"\n",
        "\n",
        "# Demonstrate abstraction in action\n",
        "laptop = Laptop(brand=\"Dell\", model=\"XPS\", operating_system=\"Windows 10\", battery_life=8)\n",
        "desktop = Desktop(brand=\"HP\", model=\"Pavilion\", operating_system=\"Ubuntu 20.04\", monitor_size=24)\n",
        "\n",
        "# Using common methods defined in the abstract class\n",
        "print(laptop.display_info())\n",
        "print(laptop.power_on())\n",
        "print(laptop.run_application(\"Web Browser\"))\n",
        "print(laptop.power_off())\n",
        "\n",
        "print(\"\\n\")\n",
        "\n",
        "print(desktop.display_info())\n",
        "print(desktop.power_on())\n",
        "print(desktop.run_application(\"Code Editor\"))\n",
        "print(desktop.power_off())\n"
      ],
      "metadata": {
        "id": "NGJAeRsOVUuu"
      },
      "execution_count": null,
      "outputs": []
    },
    {
      "cell_type": "markdown",
      "source": [
        "Q. Create a Python class for a library system, implementing abstraction by defining common methods (e.g.,"
      ],
      "metadata": {
        "id": "LxM2kWe0WEc4"
      }
    },
    {
      "cell_type": "code",
      "source": [
        "\"\"\"\n",
        "Python class for a library system that demonstrates abstraction by defining common methods in an abstract class:\"\"\"\n",
        "from abc import ABC, abstractmethod\n",
        "\n",
        "class LibraryItem(ABC):\n",
        "    def __init__(self, title, author):\n",
        "        self.title = title\n",
        "        self.author = author\n",
        "        self.checked_out = False\n",
        "\n",
        "    @abstractmethod\n",
        "    def display_info(self):\n",
        "        pass\n",
        "\n",
        "    def check_out(self):\n",
        "        if not self.checked_out:\n",
        "            self.checked_out = True\n",
        "            return f\"{self.display_info()} has been checked out.\"\n",
        "        else:\n",
        "            return f\"{self.display_info()} is already checked out.\"\n",
        "\n",
        "    def check_in(self):\n",
        "        if self.checked_out:\n",
        "            self.checked_out = False\n",
        "            return f\"{self.display_info()} has been checked in.\"\n",
        "        else:\n",
        "            return f\"{self.display_info()} is not checked out.\"\n",
        "\n",
        "class Book(LibraryItem):\n",
        "    def __init__(self, title, author, genre):\n",
        "        super().__init__(title, author)\n",
        "        self.genre = genre\n",
        "\n",
        "    def display_info(self):\n",
        "        return f\"Book - Title: {self.title}, Author: {self.author}, Genre: {self.genre}\"\n",
        "\n",
        "class DVD(LibraryItem):\n",
        "    def __init__(self, title, director, release_year):\n",
        "        super().__init__(title, author=director)\n",
        "        self.release_year = release_year\n",
        "\n",
        "    def display_info(self):\n",
        "        return f\"DVD - Title: {self.title}, Director: {self.author}, Release Year: {self.release_year}\"\n",
        "\n",
        "# Demonstrate abstraction in action\n",
        "book = Book(title=\"The Great Gatsby\", author=\"F. Scott Fitzgerald\", genre=\"Classic\")\n",
        "dvd = DVD(title=\"Inception\", director=\"Christopher Nolan\", release_year=2010)\n",
        "\n",
        "# Using common methods defined in the abstract class\n",
        "print(book.check_out())\n",
        "print(book.display_info())\n",
        "print(book.check_in())\n",
        "\n",
        "print(\"\\n\")\n",
        "\n",
        "print(dvd.check_out())\n",
        "print(dvd.display_info())\n",
        "print(dvd.check_in())\n"
      ],
      "metadata": {
        "id": "taD2y06LV5EU"
      },
      "execution_count": null,
      "outputs": []
    },
    {
      "cell_type": "markdown",
      "source": [
        "## **Composition:**"
      ],
      "metadata": {
        "id": "aY52RbE_WvLw"
      }
    },
    {
      "cell_type": "markdown",
      "source": [
        "Q. Describe the difference between composition and inheritance in object-oriented programming."
      ],
      "metadata": {
        "id": "tZFrov3bXWs-"
      }
    },
    {
      "cell_type": "code",
      "source": [
        "\"\"\"\n",
        "Composition and inheritance are two different approaches to achieve code reuse and build relationships\n",
        "between classes in object-oriented programming. Here's a brief description of the key differences between\n",
        "composition and inheritance:\n",
        "\n",
        "Inheritance:\n",
        "Inheritance is a mechanism where a class (subclass/derived class) inherits properties and behaviors from another\n",
        "class (superclass/base class).\n",
        "It establishes an \"is-a\" relationship. For example, a Car class inheriting from a Vehicle class indicates\n",
        "that a car is a type of vehicle.\n",
        "Subclasses can reuse and extend the functionality of the superclass.\n",
        "Inheritance can lead to a hierarchical structure, but it can also introduce issues like the diamond\n",
        "problem in multiple inheritance scenarios.\n",
        "\n",
        "Example:\"\"\"\n",
        "class Animal:\n",
        "    def speak(self):\n",
        "        print(\"Animal speaks\")\n",
        "\n",
        "class Dog(Animal):\n",
        "    def bark(self):\n",
        "        print(\"Dog barks\")\n",
        "\n",
        "my_dog = Dog()\n",
        "my_dog.speak()  # Inherited from Animal\n",
        "my_dog.bark()   # Specific to Dog\n"
      ],
      "metadata": {
        "id": "tkCVP4BrWeuO"
      },
      "execution_count": null,
      "outputs": []
    },
    {
      "cell_type": "markdown",
      "source": [
        "Q. Create a Python class called `Author` with attributes for name and birthdate. Then, create a `Book` class\n",
        "that contains an instance of `Author` as a composition. Provide an example of creating a `Book` object."
      ],
      "metadata": {
        "id": "31JMxrEEYCub"
      }
    },
    {
      "cell_type": "code",
      "source": [
        "\"\"\"\n",
        "Here's an example of a Python implementation for the Author and Book classes using composition:\n",
        "\"\"\"\n",
        "class Author:\n",
        "    def __init__(self, name, birthdate):\n",
        "        self.name = name\n",
        "        self.birthdate = birthdate\n",
        "\n",
        "    def display_info(self):\n",
        "        return f\"Author: {self.name}, Birthdate: {self.birthdate}\"\n",
        "\n",
        "class Book:\n",
        "    def __init__(self, title, genre, author):\n",
        "        self.title = title\n",
        "        self.genre = genre\n",
        "        self.author = author  # Composition: Book contains an instance of Author\n",
        "\n",
        "    def display_info(self):\n",
        "        return f\"Title: {self.title}, Genre: {self.genre}\\n{self.author.display_info()}\"\n",
        "\n",
        "# Example of creating a Book object\n",
        "author = Author(name=\"J.K. Rowling\", birthdate=\"July 31, 1965\")\n",
        "harry_potter = Book(title=\"Harry Potter and the Sorcerer's Stone\", genre=\"Fantasy\", author=author)\n",
        "\n",
        "# Display information about the Book\n",
        "print(harry_potter.display_info())\n",
        "\n"
      ],
      "metadata": {
        "id": "RF9j2_QtX3mG"
      },
      "execution_count": null,
      "outputs": []
    },
    {
      "cell_type": "markdown",
      "source": [
        "Q. Create a Python class hierarchy for a music player system, using composition to represent playlists and\n",
        "songs."
      ],
      "metadata": {
        "id": "Ki243pdgYpDi"
      }
    },
    {
      "cell_type": "code",
      "source": [
        "\"\"\"\n",
        " Python class hierarchy for a music player system using composition to represent playlists and songs:\n",
        " \"\"\"\n",
        "class Song:\n",
        "    def __init__(self, title, artist, duration):\n",
        "        self.title = title\n",
        "        self.artist = artist\n",
        "        self.duration = duration\n",
        "\n",
        "    def display_info(self):\n",
        "        return f\"Song: {self.title} - Artist: {self.artist} - Duration: {self.duration} seconds\"\n",
        "\n",
        "class Playlist:\n",
        "    def __init__(self, name):\n",
        "        self.name = name\n",
        "        self.songs = []  # List to store Song objects\n",
        "\n",
        "    def add_song(self, song):\n",
        "        self.songs.append(song)\n",
        "\n",
        "    def remove_song(self, song):\n",
        "        if song in self.songs:\n",
        "            self.songs.remove(song)\n",
        "\n",
        "    def display_info(self):\n",
        "        playlist_info = f\"Playlist: {self.name}\\nSongs:\\n\"\n",
        "        for song in self.songs:\n",
        "            playlist_info += f\"- {song.display_info()}\\n\"\n",
        "        return playlist_info\n",
        "\n",
        "class MusicPlayer:\n",
        "    def __init__(self):\n",
        "        self.playlists = []  # List to store Playlist objects\n",
        "\n",
        "    def create_playlist(self, name):\n",
        "        new_playlist = Playlist(name)\n",
        "        self.playlists.append(new_playlist)\n",
        "        return new_playlist\n",
        "\n",
        "    def remove_playlist(self, playlist):\n",
        "        if playlist in self.playlists:\n",
        "            self.playlists.remove(playlist)\n",
        "\n",
        "    def display_info(self):\n",
        "        player_info = \"Music Player\\nPlaylists:\\n\"\n",
        "        for playlist in self.playlists:\n",
        "            player_info += f\"{playlist.display_info()}\\n\"\n",
        "        return player_info\n",
        "\n",
        "# Example of creating a MusicPlayer object with playlists and songs\n",
        "player = MusicPlayer()\n",
        "\n",
        "playlist1 = player.create_playlist(\"Favorites\")\n",
        "playlist1.add_song(Song(\"Shape of You\", \"Ed Sheeran\", 240))\n",
        "playlist1.add_song(Song(\"Dance Monkey\", \"Tones and I\", 200))\n",
        "\n",
        "playlist2 = player.create_playlist(\"Rock Classics\")\n",
        "playlist2.add_song(Song(\"Bohemian Rhapsody\", \"Queen\", 354))\n",
        "playlist2.add_song(Song(\"Stairway to Heaven\", \"Led Zeppelin\", 482))\n",
        "\n",
        "# Display information about the music player, including playlists and songs\n",
        "print(player.display_info())\n"
      ],
      "metadata": {
        "id": "3IhVR7_yYeGW"
      },
      "execution_count": null,
      "outputs": []
    },
    {
      "cell_type": "markdown",
      "source": [
        "Q. Discuss the benefits of using composition over inheritance in Python, especially in terms of code flexibility\n",
        "and reusability."
      ],
      "metadata": {
        "id": "8B1MjulnZUdS"
      }
    },
    {
      "cell_type": "code",
      "source": [
        "\"\"\"\n",
        "Using composition over inheritance in Python offers several benefits, especially in terms of code flexibility\n",
        "and reusability. Here are some key advantages:\n",
        "\n",
        "Flexibility:\n",
        "Avoiding the Diamond Problem: Inheritance can lead to issues like the diamond problem in multiple inheritance\n",
        "scenarios, where ambiguity arises due to the presence of shared base classes. Composition avoids this problem\n",
        "altogether by favoring a more modular and flexible approach.\n",
        "Changing Behavior Dynamically: Composition allows for dynamic behavior changes at runtime by swapping out\n",
        "components or adding new ones. This is particularly useful for modifying or extending functionality without\n",
        "altering existing class hierarchies.\n",
        "\n",
        "Code Reusability:\n",
        "Modular Design: Composition promotes a modular design where classes are independent and can be reused in\n",
        "different contexts. Components (objects) can be easily reused in various combinations to build new,\n",
        "specialized objects.\n",
        "Favoring Composition over Inheritance (FOI): The FOI principle suggests that code should favor\n",
        "composition when it makes sense, leading to more maintainable and reusable code.\n",
        "\n",
        "Reduced Coupling:\n",
        "Loose Coupling: Composition generally results in looser coupling between classes compared to deep class\n",
        "hierarchies formed through inheritance. This makes it easier to modify or extend individual components\n",
        "without affecting the entire system.\n",
        "Easier Maintenance: Changes to one class in a composition-based design are less likely to have ripple\n",
        "effects throughout the codebase, simplifying maintenance and reducing the risk of unintended consequences.\n",
        "\n",
        "Encapsulation:\n",
        "Better Encapsulation: Composition often aligns well with the encapsulation principle, as components can\n",
        "encapsulate their own behavior and state. This improves information hiding and reduces the visibility of\n",
        "internal details, enhancing code maintainability.\n",
        "\n",
        "Easier Testing:\n",
        "Unit Testing: Composition makes it easier to write unit tests for individual components in isolation.\n",
        "Each component can be tested independently without the need to create complex test scenarios that might\n",
        "arise in deeply nested class hierarchies.\n",
        "\n",
        "Adaptability and Extensibility:\n",
        "Adapting to Changing Requirements: Composition allows for more adaptability to changing requirements.\n",
        "New components can be added or existing ones can be replaced without affecting the rest of the system.\n",
        "Favoring Object Composition: The idea that \"favoring object composition over class inheritance\"\n",
        "(as suggested in the Gang of Four design patterns book) provides a more flexible and extensible approach\n",
        "to building systems."
      ],
      "metadata": {
        "id": "38sNvxRVZCFw"
      },
      "execution_count": null,
      "outputs": []
    },
    {
      "cell_type": "markdown",
      "source": [
        "Q. Create a Python class for a computer system, using composition to represent components like CPU, RAM,\n",
        "and storage devices."
      ],
      "metadata": {
        "id": "EV139NLVauWW"
      }
    },
    {
      "cell_type": "code",
      "source": [
        "\"\"\"\n",
        "Python class for a computer system using composition to represent components like CPU, RAM, and storage devices:\n",
        "\"\"\"\n",
        "class CPU:\n",
        "    def __init__(self, brand, speed):\n",
        "        self.brand = brand\n",
        "        self.speed = speed\n",
        "\n",
        "    def display_info(self):\n",
        "        return f\"CPU - Brand: {self.brand}, Speed: {self.speed} GHz\"\n",
        "\n",
        "class RAM:\n",
        "    def __init__(self, capacity, type):\n",
        "        self.capacity = capacity\n",
        "        self.type = type\n",
        "\n",
        "    def display_info(self):\n",
        "        return f\"RAM - Capacity: {self.capacity} GB, Type: {self.type}\"\n",
        "\n",
        "class StorageDevice:\n",
        "    def __init__(self, capacity, type):\n",
        "        self.capacity = capacity\n",
        "        self.type = type\n",
        "\n",
        "    def display_info(self):\n",
        "        return f\"Storage Device - Capacity: {self.capacity} GB, Type: {self.type}\"\n",
        "\n",
        "class ComputerSystem:\n",
        "    def __init__(self, cpu, ram, storage):\n",
        "        self.cpu = cpu\n",
        "        self.ram = ram\n",
        "        self.storage = storage\n",
        "\n",
        "    def display_info(self):\n",
        "        return f\"Computer System Components:\\n{self.cpu.display_info()}\\n{self.ram.display_info()}\\n{self.storage.display_info()}\"\n",
        "\n",
        "# Example of creating a ComputerSystem object with CPU, RAM, and StorageDevice\n",
        "my_cpu = CPU(brand=\"Intel\", speed=3.2)\n",
        "my_ram = RAM(capacity=16, type=\"DDR4\")\n",
        "my_storage = StorageDevice(capacity=512, type=\"SSD\")\n",
        "\n",
        "my_computer = ComputerSystem(cpu=my_cpu, ram=my_ram, storage=my_storage)\n",
        "\n",
        "# Display information about the computer system\n",
        "print(my_computer.display_info())\n"
      ],
      "metadata": {
        "id": "Ffrj3hMbaw5I"
      },
      "execution_count": null,
      "outputs": []
    },
    {
      "cell_type": "markdown",
      "source": [
        "Q. Create a Python class for a car, using composition to represent components like the engine, wheels, and\n",
        "transmission."
      ],
      "metadata": {
        "id": "7eo6lK_TbHA6"
      }
    },
    {
      "cell_type": "code",
      "source": [
        "\"\"\"\n",
        " Python class for a car using composition to represent components like the engine, wheels, and transmission:\n",
        " \"\"\"\n",
        "class Engine:\n",
        "    def __init__(self, fuel_type, horsepower):\n",
        "        self.fuel_type = fuel_type\n",
        "        self.horsepower = horsepower\n",
        "\n",
        "    def display_info(self):\n",
        "        return f\"Engine - Fuel Type: {self.fuel_type}, Horsepower: {self.horsepower} hp\"\n",
        "\n",
        "class Wheels:\n",
        "    def __init__(self, count, size):\n",
        "        self.count = count\n",
        "        self.size = size\n",
        "\n",
        "    def display_info(self):\n",
        "        return f\"Wheels - Count: {self.count}, Size: {self.size} inches\"\n",
        "\n",
        "class Transmission:\n",
        "    def __init__(self, transmission_type):\n",
        "        self.transmission_type = transmission_type\n",
        "\n",
        "    def display_info(self):\n",
        "        return f\"Transmission - Type: {self.transmission_type}\"\n",
        "\n",
        "class Car:\n",
        "    def __init__(self, engine, wheels, transmission):\n",
        "        self.engine = engine\n",
        "        self.wheels = wheels\n",
        "        self.transmission = transmission\n",
        "\n",
        "    def display_info(self):\n",
        "        return f\"Car Components:\\n{self.engine.display_info()}\\n{self.wheels.display_info()}\\n{self.transmission.display_info()}\"\n",
        "\n",
        "# Example of creating a Car object with Engine, Wheels, and Transmission\n",
        "car_engine = Engine(fuel_type=\"Gasoline\", horsepower=200)\n",
        "car_wheels = Wheels(count=4, size=17)\n",
        "car_transmission = Transmission(transmission_type=\"Automatic\")\n",
        "\n",
        "my_car = Car(engine=car_engine, wheels=car_wheels, transmission=car_transmission)\n",
        "\n",
        "# Display information about the car\n",
        "print(my_car.display_info())\n"
      ],
      "metadata": {
        "id": "ajLjp2uEa9I8"
      },
      "execution_count": null,
      "outputs": []
    },
    {
      "cell_type": "code",
      "source": [],
      "metadata": {
        "id": "PQTgjIZEbWD_"
      },
      "execution_count": null,
      "outputs": []
    }
  ]
}